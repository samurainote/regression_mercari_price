{
  "nbformat": 4,
  "nbformat_minor": 0,
  "metadata": {
    "colab": {
      "name": "mercari_4th_main_code.ipynb",
      "version": "0.3.2",
      "provenance": [],
      "collapsed_sections": [
        "5fortxBqaHXR",
        "rEm-dauUaHY3",
        "bl0ZzcmvaHZI"
      ]
    },
    "kernelspec": {
      "display_name": "Python 3",
      "language": "python",
      "name": "python3"
    }
  },
  "cells": [
    {
      "metadata": {
        "id": "pU2tigvTaHUI",
        "colab_type": "text"
      },
      "cell_type": "markdown",
      "source": [
        "# Regression with ML: Mercari Price Prediction"
      ]
    },
    {
      "metadata": {
        "id": "TXoPxpVJaHUL",
        "colab_type": "text"
      },
      "cell_type": "markdown",
      "source": [
        "## Goal\n",
        "To find best price for each second-hand products which users uplod on mercari   \n",
        "## 1. Data Preparation"
      ]
    },
    {
      "metadata": {
        "id": "qkoXltTfaHUN",
        "colab_type": "code",
        "colab": {}
      },
      "cell_type": "code",
      "source": [
        "import pandas as pd\n",
        "import numpy as np\n",
        "import matplotlib.pyplot as plt\n",
        "import seaborn as sns\n",
        "%matplotlib inline"
      ],
      "execution_count": 0,
      "outputs": []
    },
    {
      "metadata": {
        "id": "hqUDX1-gaKzD",
        "colab_type": "code",
        "colab": {}
      },
      "cell_type": "code",
      "source": [
        "# Code to read csv file into Colaboratory:\n",
        "!pip install -U -q PyDrive\n",
        "from pydrive.auth import GoogleAuth\n",
        "from pydrive.drive import GoogleDrive\n",
        "from google.colab import auth\n",
        "from oauth2client.client import GoogleCredentials\n",
        "\n",
        "# Authenticate and create the PyDrive client.\n",
        "auth.authenticate_user()\n",
        "gauth = GoogleAuth()\n",
        "gauth.credentials = GoogleCredentials.get_application_default()\n",
        "drive = GoogleDrive(gauth)"
      ],
      "execution_count": 0,
      "outputs": []
    },
    {
      "metadata": {
        "id": "z7Jy7c7gaxOk",
        "colab_type": "code",
        "colab": {}
      },
      "cell_type": "code",
      "source": [
        "link = \"https://drive.google.com/open?id=1fT2O4okInxqZ0quXJkI4oJfLjK1Q_tQH\""
      ],
      "execution_count": 0,
      "outputs": []
    },
    {
      "metadata": {
        "id": "QCFXgUfAa5zG",
        "colab_type": "code",
        "colab": {
          "base_uri": "https://localhost:8080/"
        },
        "outputId": "0481c863-c841-4b4e-cb71-e503e753b38f"
      },
      "cell_type": "code",
      "source": [
        "fluff, id = link.split('=')\n",
        "print (id)"
      ],
      "execution_count": 7,
      "outputs": [
        {
          "output_type": "stream",
          "text": [
            "1fT2O4okInxqZ0quXJkI4oJfLjK1Q_tQH\n"
          ],
          "name": "stdout"
        }
      ]
    },
    {
      "metadata": {
        "id": "CUTxC42Ia5wQ",
        "colab_type": "code",
        "colab": {
          "base_uri": "https://localhost:8080/",
          "height": 50
        },
        "outputId": "8d817051-306d-4fa3-986b-52e681263f76"
      },
      "cell_type": "code",
      "source": [
        "downloaded = drive.CreateFile({'id':id}) \n",
        "downloaded.GetContentFile(\"train.tsv\")  \n",
        "mercari = pd.read_csv(\"train.tsv\", delimiter=\"\\t\")"
      ],
      "execution_count": 9,
      "outputs": [
        {
          "output_type": "stream",
          "text": [
            "/usr/local/lib/python3.6/dist-packages/IPython/core/interactiveshell.py:2718: DtypeWarning: Columns (0) have mixed types. Specify dtype option on import or set low_memory=False.\n",
            "  interactivity=interactivity, compiler=compiler, result=result)\n"
          ],
          "name": "stderr"
        }
      ]
    },
    {
      "metadata": {
        "id": "SMkzarzTaHUU",
        "colab_type": "code",
        "colab": {},
        "outputId": "b0c1470e-a089-433f-a71c-97f055a4b826"
      },
      "cell_type": "code",
      "source": [
        "submission = pd.read_csv(\"sample_submission.csv\")\n",
        "submission.head()"
      ],
      "execution_count": 0,
      "outputs": [
        {
          "output_type": "execute_result",
          "data": {
            "text/html": [
              "<div>\n",
              "<style scoped>\n",
              "    .dataframe tbody tr th:only-of-type {\n",
              "        vertical-align: middle;\n",
              "    }\n",
              "\n",
              "    .dataframe tbody tr th {\n",
              "        vertical-align: top;\n",
              "    }\n",
              "\n",
              "    .dataframe thead th {\n",
              "        text-align: right;\n",
              "    }\n",
              "</style>\n",
              "<table border=\"1\" class=\"dataframe\">\n",
              "  <thead>\n",
              "    <tr style=\"text-align: right;\">\n",
              "      <th></th>\n",
              "      <th>test_id</th>\n",
              "      <th>price</th>\n",
              "    </tr>\n",
              "  </thead>\n",
              "  <tbody>\n",
              "    <tr>\n",
              "      <th>0</th>\n",
              "      <td>0</td>\n",
              "      <td>26.738</td>\n",
              "    </tr>\n",
              "    <tr>\n",
              "      <th>1</th>\n",
              "      <td>1</td>\n",
              "      <td>26.738</td>\n",
              "    </tr>\n",
              "    <tr>\n",
              "      <th>2</th>\n",
              "      <td>2</td>\n",
              "      <td>26.738</td>\n",
              "    </tr>\n",
              "    <tr>\n",
              "      <th>3</th>\n",
              "      <td>3</td>\n",
              "      <td>26.738</td>\n",
              "    </tr>\n",
              "    <tr>\n",
              "      <th>4</th>\n",
              "      <td>4</td>\n",
              "      <td>26.738</td>\n",
              "    </tr>\n",
              "  </tbody>\n",
              "</table>\n",
              "</div>"
            ],
            "text/plain": [
              "   test_id   price\n",
              "0        0  26.738\n",
              "1        1  26.738\n",
              "2        2  26.738\n",
              "3        3  26.738\n",
              "4        4  26.738"
            ]
          },
          "metadata": {
            "tags": []
          },
          "execution_count": 2
        }
      ]
    },
    {
      "metadata": {
        "id": "CXI2tiR2aHUc",
        "colab_type": "code",
        "colab": {
          "base_uri": "https://localhost:8080/",
          "height": 197
        },
        "outputId": "5ac539ff-169f-42ea-852d-6cce45a6e816"
      },
      "cell_type": "code",
      "source": [
        "#mercari = pd.read_csv(\"train.tsv\", delimiter=\"\\t\")\n",
        "mercari.head()"
      ],
      "execution_count": 10,
      "outputs": [
        {
          "output_type": "execute_result",
          "data": {
            "text/html": [
              "<div>\n",
              "<style scoped>\n",
              "    .dataframe tbody tr th:only-of-type {\n",
              "        vertical-align: middle;\n",
              "    }\n",
              "\n",
              "    .dataframe tbody tr th {\n",
              "        vertical-align: top;\n",
              "    }\n",
              "\n",
              "    .dataframe thead th {\n",
              "        text-align: right;\n",
              "    }\n",
              "</style>\n",
              "<table border=\"1\" class=\"dataframe\">\n",
              "  <thead>\n",
              "    <tr style=\"text-align: right;\">\n",
              "      <th></th>\n",
              "      <th>train_id</th>\n",
              "      <th>name</th>\n",
              "      <th>item_condition_id</th>\n",
              "      <th>category_name</th>\n",
              "      <th>brand_name</th>\n",
              "      <th>price</th>\n",
              "      <th>shipping</th>\n",
              "      <th>item_description</th>\n",
              "    </tr>\n",
              "  </thead>\n",
              "  <tbody>\n",
              "    <tr>\n",
              "      <th>0</th>\n",
              "      <td>0</td>\n",
              "      <td>MLB Cincinnati Reds T Shirt Size XL</td>\n",
              "      <td>3.0</td>\n",
              "      <td>Men/Tops/T-shirts</td>\n",
              "      <td>NaN</td>\n",
              "      <td>10.0</td>\n",
              "      <td>1.0</td>\n",
              "      <td>No description yet</td>\n",
              "    </tr>\n",
              "    <tr>\n",
              "      <th>1</th>\n",
              "      <td>1</td>\n",
              "      <td>Razer BlackWidow Chroma Keyboard</td>\n",
              "      <td>3.0</td>\n",
              "      <td>Electronics/Computers &amp; Tablets/Components &amp; P...</td>\n",
              "      <td>Razer</td>\n",
              "      <td>52.0</td>\n",
              "      <td>0.0</td>\n",
              "      <td>This keyboard is in great condition and works ...</td>\n",
              "    </tr>\n",
              "    <tr>\n",
              "      <th>2</th>\n",
              "      <td>2</td>\n",
              "      <td>AVA-VIV Blouse</td>\n",
              "      <td>1.0</td>\n",
              "      <td>Women/Tops &amp; Blouses/Blouse</td>\n",
              "      <td>Target</td>\n",
              "      <td>10.0</td>\n",
              "      <td>1.0</td>\n",
              "      <td>Adorable top with a hint of lace and a key hol...</td>\n",
              "    </tr>\n",
              "    <tr>\n",
              "      <th>3</th>\n",
              "      <td>3</td>\n",
              "      <td>Leather Horse Statues</td>\n",
              "      <td>1.0</td>\n",
              "      <td>Home/Home Décor/Home Décor Accents</td>\n",
              "      <td>NaN</td>\n",
              "      <td>35.0</td>\n",
              "      <td>1.0</td>\n",
              "      <td>New with tags. Leather horses. Retail for [rm]...</td>\n",
              "    </tr>\n",
              "    <tr>\n",
              "      <th>4</th>\n",
              "      <td>4</td>\n",
              "      <td>24K GOLD plated rose</td>\n",
              "      <td>1.0</td>\n",
              "      <td>Women/Jewelry/Necklaces</td>\n",
              "      <td>NaN</td>\n",
              "      <td>44.0</td>\n",
              "      <td>0.0</td>\n",
              "      <td>Complete with certificate of authenticity</td>\n",
              "    </tr>\n",
              "  </tbody>\n",
              "</table>\n",
              "</div>"
            ],
            "text/plain": [
              "  train_id                                 name  item_condition_id  \\\n",
              "0        0  MLB Cincinnati Reds T Shirt Size XL                3.0   \n",
              "1        1     Razer BlackWidow Chroma Keyboard                3.0   \n",
              "2        2                       AVA-VIV Blouse                1.0   \n",
              "3        3                Leather Horse Statues                1.0   \n",
              "4        4                 24K GOLD plated rose                1.0   \n",
              "\n",
              "                                       category_name brand_name  price  \\\n",
              "0                                  Men/Tops/T-shirts        NaN   10.0   \n",
              "1  Electronics/Computers & Tablets/Components & P...      Razer   52.0   \n",
              "2                        Women/Tops & Blouses/Blouse     Target   10.0   \n",
              "3                 Home/Home Décor/Home Décor Accents        NaN   35.0   \n",
              "4                            Women/Jewelry/Necklaces        NaN   44.0   \n",
              "\n",
              "   shipping                                   item_description  \n",
              "0       1.0                                 No description yet  \n",
              "1       0.0  This keyboard is in great condition and works ...  \n",
              "2       1.0  Adorable top with a hint of lace and a key hol...  \n",
              "3       1.0  New with tags. Leather horses. Retail for [rm]...  \n",
              "4       0.0          Complete with certificate of authenticity  "
            ]
          },
          "metadata": {
            "tags": []
          },
          "execution_count": 10
        }
      ]
    },
    {
      "metadata": {
        "scrolled": true,
        "id": "fCweUyiRaHUi",
        "colab_type": "code",
        "colab": {}
      },
      "cell_type": "code",
      "source": [
        "mercari_test = pd.read_csv(\"test.tsv\", delimiter=\"\\t\")\n",
        "mercari_test.head()"
      ],
      "execution_count": 0,
      "outputs": []
    },
    {
      "metadata": {
        "id": "IiB2VSjDaHUo",
        "colab_type": "text"
      },
      "cell_type": "markdown",
      "source": [
        "## 2. Target and Feature Split"
      ]
    },
    {
      "metadata": {
        "id": "h7Uu-CZgaHUp",
        "colab_type": "code",
        "colab": {
          "base_uri": "https://localhost:8080/",
          "height": 197
        },
        "outputId": "6a93fffa-5bf6-4024-b95c-46dade69d694"
      },
      "cell_type": "code",
      "source": [
        "mercari_price = mercari[[\"price\", \"train_id\"]]\n",
        "mercari_price.head()"
      ],
      "execution_count": 16,
      "outputs": [
        {
          "output_type": "execute_result",
          "data": {
            "text/html": [
              "<div>\n",
              "<style scoped>\n",
              "    .dataframe tbody tr th:only-of-type {\n",
              "        vertical-align: middle;\n",
              "    }\n",
              "\n",
              "    .dataframe tbody tr th {\n",
              "        vertical-align: top;\n",
              "    }\n",
              "\n",
              "    .dataframe thead th {\n",
              "        text-align: right;\n",
              "    }\n",
              "</style>\n",
              "<table border=\"1\" class=\"dataframe\">\n",
              "  <thead>\n",
              "    <tr style=\"text-align: right;\">\n",
              "      <th></th>\n",
              "      <th>price</th>\n",
              "      <th>train_id</th>\n",
              "    </tr>\n",
              "  </thead>\n",
              "  <tbody>\n",
              "    <tr>\n",
              "      <th>0</th>\n",
              "      <td>10.0</td>\n",
              "      <td>0</td>\n",
              "    </tr>\n",
              "    <tr>\n",
              "      <th>1</th>\n",
              "      <td>52.0</td>\n",
              "      <td>1</td>\n",
              "    </tr>\n",
              "    <tr>\n",
              "      <th>2</th>\n",
              "      <td>10.0</td>\n",
              "      <td>2</td>\n",
              "    </tr>\n",
              "    <tr>\n",
              "      <th>3</th>\n",
              "      <td>35.0</td>\n",
              "      <td>3</td>\n",
              "    </tr>\n",
              "    <tr>\n",
              "      <th>4</th>\n",
              "      <td>44.0</td>\n",
              "      <td>4</td>\n",
              "    </tr>\n",
              "  </tbody>\n",
              "</table>\n",
              "</div>"
            ],
            "text/plain": [
              "   price train_id\n",
              "0   10.0        0\n",
              "1   52.0        1\n",
              "2   10.0        2\n",
              "3   35.0        3\n",
              "4   44.0        4"
            ]
          },
          "metadata": {
            "tags": []
          },
          "execution_count": 16
        }
      ]
    },
    {
      "metadata": {
        "id": "XAfW2ih_aHU5",
        "colab_type": "code",
        "colab": {
          "base_uri": "https://localhost:8080/",
          "height": 33
        },
        "outputId": "66834e0f-da69-41b0-ab34-6f0304e6823a"
      },
      "cell_type": "code",
      "source": [
        "mercari_price.shape"
      ],
      "execution_count": 18,
      "outputs": [
        {
          "output_type": "execute_result",
          "data": {
            "text/plain": [
              "(1483904, 2)"
            ]
          },
          "metadata": {
            "tags": []
          },
          "execution_count": 18
        }
      ]
    },
    {
      "metadata": {
        "id": "TQP0mRC-aHU8",
        "colab_type": "code",
        "colab": {
          "base_uri": "https://localhost:8080/",
          "height": 33
        },
        "outputId": "72029861-d412-4c52-c808-dbf7e0e754d7"
      },
      "cell_type": "code",
      "source": [
        "mercari_price.drop(labels=[511535, 861230, 1224924, 1264242], inplace=True)\n",
        "mercari_price.reset_index(drop=True, inplace=True)\n",
        "mercari_price.shape"
      ],
      "execution_count": 11,
      "outputs": [
        {
          "output_type": "execute_result",
          "data": {
            "text/plain": [
              "(1485242,)"
            ]
          },
          "metadata": {
            "tags": []
          },
          "execution_count": 11
        }
      ]
    },
    {
      "metadata": {
        "id": "sMH7fzAoaHVD",
        "colab_type": "code",
        "colab": {
          "base_uri": "https://localhost:8080/",
          "height": 197
        },
        "outputId": "ce808560-7ee8-4b31-a97f-316fce1af5cc"
      },
      "cell_type": "code",
      "source": [
        "mercari.drop(\"price\", axis=1, inplace=True)\n",
        "mercari.head()"
      ],
      "execution_count": 17,
      "outputs": [
        {
          "output_type": "execute_result",
          "data": {
            "text/html": [
              "<div>\n",
              "<style scoped>\n",
              "    .dataframe tbody tr th:only-of-type {\n",
              "        vertical-align: middle;\n",
              "    }\n",
              "\n",
              "    .dataframe tbody tr th {\n",
              "        vertical-align: top;\n",
              "    }\n",
              "\n",
              "    .dataframe thead th {\n",
              "        text-align: right;\n",
              "    }\n",
              "</style>\n",
              "<table border=\"1\" class=\"dataframe\">\n",
              "  <thead>\n",
              "    <tr style=\"text-align: right;\">\n",
              "      <th></th>\n",
              "      <th>train_id</th>\n",
              "      <th>name</th>\n",
              "      <th>item_condition_id</th>\n",
              "      <th>category_name</th>\n",
              "      <th>brand_name</th>\n",
              "      <th>shipping</th>\n",
              "      <th>item_description</th>\n",
              "    </tr>\n",
              "  </thead>\n",
              "  <tbody>\n",
              "    <tr>\n",
              "      <th>0</th>\n",
              "      <td>0</td>\n",
              "      <td>MLB Cincinnati Reds T Shirt Size XL</td>\n",
              "      <td>3.0</td>\n",
              "      <td>Men/Tops/T-shirts</td>\n",
              "      <td>no_brand</td>\n",
              "      <td>1.0</td>\n",
              "      <td>No description yet</td>\n",
              "    </tr>\n",
              "    <tr>\n",
              "      <th>1</th>\n",
              "      <td>1</td>\n",
              "      <td>Razer BlackWidow Chroma Keyboard</td>\n",
              "      <td>3.0</td>\n",
              "      <td>Electronics/Computers &amp; Tablets/Components &amp; P...</td>\n",
              "      <td>Razer</td>\n",
              "      <td>0.0</td>\n",
              "      <td>This keyboard is in great condition and works ...</td>\n",
              "    </tr>\n",
              "    <tr>\n",
              "      <th>2</th>\n",
              "      <td>2</td>\n",
              "      <td>AVA-VIV Blouse</td>\n",
              "      <td>1.0</td>\n",
              "      <td>Women/Tops &amp; Blouses/Blouse</td>\n",
              "      <td>Target</td>\n",
              "      <td>1.0</td>\n",
              "      <td>Adorable top with a hint of lace and a key hol...</td>\n",
              "    </tr>\n",
              "    <tr>\n",
              "      <th>3</th>\n",
              "      <td>3</td>\n",
              "      <td>Leather Horse Statues</td>\n",
              "      <td>1.0</td>\n",
              "      <td>Home/Home Décor/Home Décor Accents</td>\n",
              "      <td>no_brand</td>\n",
              "      <td>1.0</td>\n",
              "      <td>New with tags. Leather horses. Retail for [rm]...</td>\n",
              "    </tr>\n",
              "    <tr>\n",
              "      <th>4</th>\n",
              "      <td>4</td>\n",
              "      <td>24K GOLD plated rose</td>\n",
              "      <td>1.0</td>\n",
              "      <td>Women/Jewelry/Necklaces</td>\n",
              "      <td>no_brand</td>\n",
              "      <td>0.0</td>\n",
              "      <td>Complete with certificate of authenticity</td>\n",
              "    </tr>\n",
              "  </tbody>\n",
              "</table>\n",
              "</div>"
            ],
            "text/plain": [
              "  train_id                                 name  item_condition_id  \\\n",
              "0        0  MLB Cincinnati Reds T Shirt Size XL                3.0   \n",
              "1        1     Razer BlackWidow Chroma Keyboard                3.0   \n",
              "2        2                       AVA-VIV Blouse                1.0   \n",
              "3        3                Leather Horse Statues                1.0   \n",
              "4        4                 24K GOLD plated rose                1.0   \n",
              "\n",
              "                                       category_name brand_name  shipping  \\\n",
              "0                                  Men/Tops/T-shirts   no_brand       1.0   \n",
              "1  Electronics/Computers & Tablets/Components & P...      Razer       0.0   \n",
              "2                        Women/Tops & Blouses/Blouse     Target       1.0   \n",
              "3                 Home/Home Décor/Home Décor Accents   no_brand       1.0   \n",
              "4                            Women/Jewelry/Necklaces   no_brand       0.0   \n",
              "\n",
              "                                    item_description  \n",
              "0                                 No description yet  \n",
              "1  This keyboard is in great condition and works ...  \n",
              "2  Adorable top with a hint of lace and a key hol...  \n",
              "3  New with tags. Leather horses. Retail for [rm]...  \n",
              "4          Complete with certificate of authenticity  "
            ]
          },
          "metadata": {
            "tags": []
          },
          "execution_count": 17
        }
      ]
    },
    {
      "metadata": {
        "id": "53qUdXm3aHVM",
        "colab_type": "code",
        "colab": {
          "base_uri": "https://localhost:8080/",
          "height": 33
        },
        "outputId": "1cf0647f-14a4-470e-8b11-224ecc29c12f"
      },
      "cell_type": "code",
      "source": [
        "mercari.shape"
      ],
      "execution_count": 19,
      "outputs": [
        {
          "output_type": "execute_result",
          "data": {
            "text/plain": [
              "(1483904, 7)"
            ]
          },
          "metadata": {
            "tags": []
          },
          "execution_count": 19
        }
      ]
    },
    {
      "metadata": {
        "id": "Saxa4CSpaHVb",
        "colab_type": "text"
      },
      "cell_type": "markdown",
      "source": [
        "## 3. Convert Data Type"
      ]
    },
    {
      "metadata": {
        "id": "wzOAZ0t4aHVd",
        "colab_type": "code",
        "colab": {
          "base_uri": "https://localhost:8080/",
          "height": 150
        },
        "outputId": "62a421f4-7669-46b6-9801-a71c42218abb"
      },
      "cell_type": "code",
      "source": [
        "mercari.dtypes"
      ],
      "execution_count": 14,
      "outputs": [
        {
          "output_type": "execute_result",
          "data": {
            "text/plain": [
              "train_id              object\n",
              "name                  object\n",
              "item_condition_id    float64\n",
              "category_name         object\n",
              "brand_name            object\n",
              "shipping             float64\n",
              "item_description      object\n",
              "dtype: object"
            ]
          },
          "metadata": {
            "tags": []
          },
          "execution_count": 14
        }
      ]
    },
    {
      "metadata": {
        "id": "VWxqXJYjaHVi",
        "colab_type": "code",
        "colab": {
          "base_uri": "https://localhost:8080/",
          "height": 33
        },
        "outputId": "eb367ee4-b553-4a4d-9858-731cb4916c7f"
      },
      "cell_type": "code",
      "source": [
        "len(mercari[\"brand_name\"].unique())"
      ],
      "execution_count": 15,
      "outputs": [
        {
          "output_type": "execute_result",
          "data": {
            "text/plain": [
              "4810"
            ]
          },
          "metadata": {
            "tags": []
          },
          "execution_count": 15
        }
      ]
    },
    {
      "metadata": {
        "id": "7HMCHQhcaHVv",
        "colab_type": "text"
      },
      "cell_type": "markdown",
      "source": [
        "## 4. Missing Value"
      ]
    },
    {
      "metadata": {
        "id": "cHncN45kaHVw",
        "colab_type": "code",
        "colab": {
          "base_uri": "https://localhost:8080/",
          "height": 166
        },
        "outputId": "a053d0fe-7f67-4566-97fb-8f7a80e7f241"
      },
      "cell_type": "code",
      "source": [
        "mercari.isnull().any()"
      ],
      "execution_count": 35,
      "outputs": [
        {
          "output_type": "execute_result",
          "data": {
            "text/plain": [
              "train_id             False\n",
              "name                  True\n",
              "item_condition_id     True\n",
              "category_name         True\n",
              "brand_name            True\n",
              "price                 True\n",
              "shipping              True\n",
              "item_description      True\n",
              "dtype: bool"
            ]
          },
          "metadata": {
            "tags": []
          },
          "execution_count": 35
        }
      ]
    },
    {
      "metadata": {
        "id": "7AIbe_pTaHV7",
        "colab_type": "code",
        "colab": {
          "base_uri": "https://localhost:8080/",
          "height": 166
        },
        "outputId": "42d5f7a9-a190-4025-b2bd-79572577be0a"
      },
      "cell_type": "code",
      "source": [
        "mercari.isnull().sum()"
      ],
      "execution_count": 36,
      "outputs": [
        {
          "output_type": "execute_result",
          "data": {
            "text/plain": [
              "train_id                  0\n",
              "name                      1\n",
              "item_condition_id         1\n",
              "category_name          6337\n",
              "brand_name           633668\n",
              "price                     1\n",
              "shipping                  1\n",
              "item_description          5\n",
              "dtype: int64"
            ]
          },
          "metadata": {
            "tags": []
          },
          "execution_count": 36
        }
      ]
    },
    {
      "metadata": {
        "id": "N7crYNOsaHWB",
        "colab_type": "text"
      },
      "cell_type": "markdown",
      "source": [
        "I will cut 4 records which have null value in column \"item_description\"."
      ]
    },
    {
      "metadata": {
        "id": "7qhM9EDaaHWC",
        "colab_type": "code",
        "colab": {
          "base_uri": "https://localhost:8080/",
          "height": 197
        },
        "outputId": "840654f1-7a49-40fd-eb56-f53d6af38246"
      },
      "cell_type": "code",
      "source": [
        "mercari[mercari[\"item_description\"].isnull()]"
      ],
      "execution_count": 37,
      "outputs": [
        {
          "output_type": "execute_result",
          "data": {
            "text/html": [
              "<div>\n",
              "<style scoped>\n",
              "    .dataframe tbody tr th:only-of-type {\n",
              "        vertical-align: middle;\n",
              "    }\n",
              "\n",
              "    .dataframe tbody tr th {\n",
              "        vertical-align: top;\n",
              "    }\n",
              "\n",
              "    .dataframe thead th {\n",
              "        text-align: right;\n",
              "    }\n",
              "</style>\n",
              "<table border=\"1\" class=\"dataframe\">\n",
              "  <thead>\n",
              "    <tr style=\"text-align: right;\">\n",
              "      <th></th>\n",
              "      <th>train_id</th>\n",
              "      <th>name</th>\n",
              "      <th>item_condition_id</th>\n",
              "      <th>category_name</th>\n",
              "      <th>brand_name</th>\n",
              "      <th>price</th>\n",
              "      <th>shipping</th>\n",
              "      <th>item_description</th>\n",
              "    </tr>\n",
              "  </thead>\n",
              "  <tbody>\n",
              "    <tr>\n",
              "      <th>511535</th>\n",
              "      <td>511535</td>\n",
              "      <td>Shoes for Michelle</td>\n",
              "      <td>4.0</td>\n",
              "      <td>Kids/Girls 0-24 Mos/Shoes</td>\n",
              "      <td>NaN</td>\n",
              "      <td>9.0</td>\n",
              "      <td>0.0</td>\n",
              "      <td>NaN</td>\n",
              "    </tr>\n",
              "    <tr>\n",
              "      <th>861230</th>\n",
              "      <td>861230</td>\n",
              "      <td>Lipgloss</td>\n",
              "      <td>4.0</td>\n",
              "      <td>Beauty/Makeup/Lips</td>\n",
              "      <td>NaN</td>\n",
              "      <td>49.0</td>\n",
              "      <td>0.0</td>\n",
              "      <td>NaN</td>\n",
              "    </tr>\n",
              "    <tr>\n",
              "      <th>1224924</th>\n",
              "      <td>1224924</td>\n",
              "      <td>Disney Minnie Head band</td>\n",
              "      <td>3.0</td>\n",
              "      <td>Women/Women's Accessories/Hair Accessories</td>\n",
              "      <td>Disney</td>\n",
              "      <td>9.0</td>\n",
              "      <td>0.0</td>\n",
              "      <td>NaN</td>\n",
              "    </tr>\n",
              "    <tr>\n",
              "      <th>1264242</th>\n",
              "      <td>1264242</td>\n",
              "      <td>For Bianca</td>\n",
              "      <td>3.0</td>\n",
              "      <td>Women/Women's Accessories/Scarves &amp; Wraps</td>\n",
              "      <td>NaN</td>\n",
              "      <td>10.0</td>\n",
              "      <td>1.0</td>\n",
              "      <td>NaN</td>\n",
              "    </tr>\n",
              "    <tr>\n",
              "      <th>1482535</th>\n",
              "      <td>y, stainless steel back\"</td>\n",
              "      <td>NaN</td>\n",
              "      <td>NaN</td>\n",
              "      <td>NaN</td>\n",
              "      <td>NaN</td>\n",
              "      <td>NaN</td>\n",
              "      <td>NaN</td>\n",
              "      <td>NaN</td>\n",
              "    </tr>\n",
              "  </tbody>\n",
              "</table>\n",
              "</div>"
            ],
            "text/plain": [
              "                         train_id                     name  item_condition_id  \\\n",
              "511535                     511535       Shoes for Michelle                4.0   \n",
              "861230                     861230                 Lipgloss                4.0   \n",
              "1224924                   1224924  Disney Minnie Head band                3.0   \n",
              "1264242                   1264242               For Bianca                3.0   \n",
              "1482535  y, stainless steel back\"                      NaN                NaN   \n",
              "\n",
              "                                      category_name brand_name  price  \\\n",
              "511535                    Kids/Girls 0-24 Mos/Shoes        NaN    9.0   \n",
              "861230                           Beauty/Makeup/Lips        NaN   49.0   \n",
              "1224924  Women/Women's Accessories/Hair Accessories     Disney    9.0   \n",
              "1264242   Women/Women's Accessories/Scarves & Wraps        NaN   10.0   \n",
              "1482535                                         NaN        NaN    NaN   \n",
              "\n",
              "         shipping item_description  \n",
              "511535        0.0              NaN  \n",
              "861230        0.0              NaN  \n",
              "1224924       0.0              NaN  \n",
              "1264242       1.0              NaN  \n",
              "1482535       NaN              NaN  "
            ]
          },
          "metadata": {
            "tags": []
          },
          "execution_count": 37
        }
      ]
    },
    {
      "metadata": {
        "id": "fjequWiraHWG",
        "colab_type": "code",
        "colab": {
          "base_uri": "https://localhost:8080/",
          "height": 33
        },
        "outputId": "ae9128e4-d7b3-419a-8573-744cf6c8a813"
      },
      "cell_type": "code",
      "source": [
        "mercari.drop(labels=[511535, 861230, 1224924, 1264242], inplace=True)\n",
        "mercari.shape"
      ],
      "execution_count": 19,
      "outputs": [
        {
          "output_type": "execute_result",
          "data": {
            "text/plain": [
              "(1485242, 7)"
            ]
          },
          "metadata": {
            "tags": []
          },
          "execution_count": 19
        }
      ]
    },
    {
      "metadata": {
        "id": "s2PqIMtGaHWS",
        "colab_type": "code",
        "colab": {}
      },
      "cell_type": "code",
      "source": [
        "mercari[\"brand_name\"].fillna(value=\"no_brand\", inplace=True)"
      ],
      "execution_count": 0,
      "outputs": []
    },
    {
      "metadata": {
        "id": "4PhjP3r9aHWf",
        "colab_type": "code",
        "colab": {}
      },
      "cell_type": "code",
      "source": [
        "mercari[\"category_name\"].fillna(value=\"no_category\", inplace=True)"
      ],
      "execution_count": 0,
      "outputs": []
    },
    {
      "metadata": {
        "id": "nSO0t88HaHWk",
        "colab_type": "code",
        "colab": {
          "base_uri": "https://localhost:8080/",
          "height": 166
        },
        "outputId": "1c96c289-845a-43cf-aaf5-fbd18957626b"
      },
      "cell_type": "code",
      "source": [
        "mercari.isnull().sum()"
      ],
      "execution_count": 14,
      "outputs": [
        {
          "output_type": "execute_result",
          "data": {
            "text/plain": [
              "train_id             0\n",
              "name                 1\n",
              "item_condition_id    1\n",
              "category_name        0\n",
              "brand_name           0\n",
              "price                1\n",
              "shipping             1\n",
              "item_description     5\n",
              "dtype: int64"
            ]
          },
          "metadata": {
            "tags": []
          },
          "execution_count": 14
        }
      ]
    },
    {
      "metadata": {
        "id": "IiwA3cNBeEnF",
        "colab_type": "code",
        "colab": {
          "base_uri": "https://localhost:8080/",
          "height": 33
        },
        "outputId": "a37c67db-3a9a-4082-b7ff-3bd76f657be8"
      },
      "cell_type": "code",
      "source": [
        "len(mercari)"
      ],
      "execution_count": 41,
      "outputs": [
        {
          "output_type": "execute_result",
          "data": {
            "text/plain": [
              "1484806"
            ]
          },
          "metadata": {
            "tags": []
          },
          "execution_count": 41
        }
      ]
    },
    {
      "metadata": {
        "id": "Z_9CyEZycbV6",
        "colab_type": "code",
        "colab": {
          "base_uri": "https://localhost:8080/",
          "height": 166
        },
        "outputId": "2bb5b1b8-b579-4fd7-d641-0eb7bc771c23"
      },
      "cell_type": "code",
      "source": [
        "mercari.dropna(inplace=True)\n",
        "len(mercari)\n",
        "mercari.isnull().sum()"
      ],
      "execution_count": 15,
      "outputs": [
        {
          "output_type": "execute_result",
          "data": {
            "text/plain": [
              "train_id             0\n",
              "name                 0\n",
              "item_condition_id    0\n",
              "category_name        0\n",
              "brand_name           0\n",
              "price                0\n",
              "shipping             0\n",
              "item_description     0\n",
              "dtype: int64"
            ]
          },
          "metadata": {
            "tags": []
          },
          "execution_count": 15
        }
      ]
    },
    {
      "metadata": {
        "id": "3rlk4CswaHWw",
        "colab_type": "text"
      },
      "cell_type": "markdown",
      "source": [
        "# Policy for each Features\n",
        "1. Sequencial  Category Data\n",
        "    - item_condition_id -> MultiLabelEncode\n",
        "    \n",
        "    \n",
        "2. Discrete Category Data\n",
        "    - shipping -> Binary\n",
        "    - category_name -> Multiple-One-Hot\n",
        "    - brand_name -> One-Hot\n",
        "    \n",
        "      \n",
        "3. NLP Data\n",
        "    - name\n",
        "    - item_description"
      ]
    },
    {
      "metadata": {
        "id": "mk_zYpdraHWx",
        "colab_type": "text"
      },
      "cell_type": "markdown",
      "source": [
        "## 5. Numerical Values: Outlier Exclusion"
      ]
    },
    {
      "metadata": {
        "id": "G_25aQyVaHWz",
        "colab_type": "code",
        "colab": {
          "base_uri": "https://localhost:8080/",
          "height": 197
        },
        "outputId": "f4f7189d-6422-4e94-c59b-2b35e7bd844f"
      },
      "cell_type": "code",
      "source": [
        "mercari_price.head()"
      ],
      "execution_count": 48,
      "outputs": [
        {
          "output_type": "execute_result",
          "data": {
            "text/html": [
              "<div>\n",
              "<style scoped>\n",
              "    .dataframe tbody tr th:only-of-type {\n",
              "        vertical-align: middle;\n",
              "    }\n",
              "\n",
              "    .dataframe tbody tr th {\n",
              "        vertical-align: top;\n",
              "    }\n",
              "\n",
              "    .dataframe thead th {\n",
              "        text-align: right;\n",
              "    }\n",
              "</style>\n",
              "<table border=\"1\" class=\"dataframe\">\n",
              "  <thead>\n",
              "    <tr style=\"text-align: right;\">\n",
              "      <th></th>\n",
              "      <th>price</th>\n",
              "      <th>train_id</th>\n",
              "    </tr>\n",
              "  </thead>\n",
              "  <tbody>\n",
              "    <tr>\n",
              "      <th>0</th>\n",
              "      <td>10.0</td>\n",
              "      <td>0</td>\n",
              "    </tr>\n",
              "    <tr>\n",
              "      <th>1</th>\n",
              "      <td>52.0</td>\n",
              "      <td>1</td>\n",
              "    </tr>\n",
              "    <tr>\n",
              "      <th>2</th>\n",
              "      <td>10.0</td>\n",
              "      <td>2</td>\n",
              "    </tr>\n",
              "    <tr>\n",
              "      <th>3</th>\n",
              "      <td>35.0</td>\n",
              "      <td>3</td>\n",
              "    </tr>\n",
              "    <tr>\n",
              "      <th>4</th>\n",
              "      <td>44.0</td>\n",
              "      <td>4</td>\n",
              "    </tr>\n",
              "  </tbody>\n",
              "</table>\n",
              "</div>"
            ],
            "text/plain": [
              "   price train_id\n",
              "0   10.0        0\n",
              "1   52.0        1\n",
              "2   10.0        2\n",
              "3   35.0        3\n",
              "4   44.0        4"
            ]
          },
          "metadata": {
            "tags": []
          },
          "execution_count": 48
        }
      ]
    },
    {
      "metadata": {
        "id": "z8Bge7jweb7c",
        "colab_type": "code",
        "colab": {
          "base_uri": "https://localhost:8080/",
          "height": 66
        },
        "outputId": "a205e24f-21f3-4813-fbb3-96c66d895db4"
      },
      "cell_type": "code",
      "source": [
        "mercari_price.isnull().sum()"
      ],
      "execution_count": 49,
      "outputs": [
        {
          "output_type": "execute_result",
          "data": {
            "text/plain": [
              "price       0\n",
              "train_id    0\n",
              "dtype: int64"
            ]
          },
          "metadata": {
            "tags": []
          },
          "execution_count": 49
        }
      ]
    },
    {
      "metadata": {
        "id": "yn8i4cE3aHW5",
        "colab_type": "code",
        "colab": {
          "base_uri": "https://localhost:8080/",
          "height": 546
        },
        "outputId": "b5ca6a9c-7115-46dc-f9e4-14b3e55a15c9"
      },
      "cell_type": "code",
      "source": [
        "plt.figure(figsize=(14,8))\n",
        "sns.distplot(mercari_price[\"price\"], hist_kws={\"color\": \"Orange\"}, kde_kws={\"color\": \"Navy\"})\n",
        "plt.show();"
      ],
      "execution_count": 51,
      "outputs": [
        {
          "output_type": "stream",
          "text": [
            "/usr/local/lib/python3.6/dist-packages/matplotlib/axes/_axes.py:6521: MatplotlibDeprecationWarning: \n",
            "The 'normed' kwarg was deprecated in Matplotlib 2.1 and will be removed in 3.1. Use 'density' instead.\n",
            "  alternative=\"'density'\", removal=\"3.1\")\n"
          ],
          "name": "stderr"
        },
        {
          "output_type": "display_data",
          "data": {
            "image/png": "[encoded data removed]",
            "text/plain": [
              "<Figure size 1008x576 with 1 Axes>"
            ]
          },
          "metadata": {
            "tags": []
          }
        }
      ]
    },
    {
      "metadata": {
        "id": "a5pKlwfGaHXC",
        "colab_type": "code",
        "colab": {
          "base_uri": "https://localhost:8080/",
          "height": 394
        },
        "outputId": "d7ea179b-8615-443e-d2d4-a88ff2d7bd82"
      },
      "cell_type": "code",
      "source": [
        "# the condition of the items provided by the seller\n",
        "sns.set(style=\"darkgrid\")\n",
        "ax = sns.countplot(x=\"item_condition_id\", data=mercari)"
      ],
      "execution_count": 52,
      "outputs": [
        {
          "output_type": "stream",
          "text": [
            "/usr/local/lib/python3.6/dist-packages/seaborn/categorical.py:1428: FutureWarning: remove_na is deprecated and is a private function. Do not use.\n",
            "  stat_data = remove_na(group_data)\n"
          ],
          "name": "stderr"
        },
        {
          "output_type": "display_data",
          "data": {
            "image/png": "[encoded data removed]",
            "text/plain": [
              "<Figure size 576x396 with 1 Axes>"
            ]
          },
          "metadata": {
            "tags": []
          }
        }
      ]
    },
    {
      "metadata": {
        "id": "2ZBVMxzeaHXF",
        "colab_type": "code",
        "colab": {
          "base_uri": "https://localhost:8080/",
          "height": 394
        },
        "outputId": "6cf45455-f3d4-40cd-c137-e2130b9682db"
      },
      "cell_type": "code",
      "source": [
        "# 1 if shipping fee is paid by seller and 0 by buyer\n",
        "ax = sns.countplot(x=\"shipping\", data=mercari, palette=\"husl\")"
      ],
      "execution_count": 53,
      "outputs": [
        {
          "output_type": "stream",
          "text": [
            "/usr/local/lib/python3.6/dist-packages/seaborn/categorical.py:1428: FutureWarning: remove_na is deprecated and is a private function. Do not use.\n",
            "  stat_data = remove_na(group_data)\n"
          ],
          "name": "stderr"
        },
        {
          "output_type": "display_data",
          "data": {
            "image/png": "[encoded data removed]",
            "text/plain": [
              "<Figure size 576x396 with 1 Axes>"
            ]
          },
          "metadata": {
            "tags": []
          }
        }
      ]
    },
    {
      "metadata": {
        "id": "Euxzlb7WaHXJ",
        "colab_type": "code",
        "colab": {
          "base_uri": "https://localhost:8080/",
          "height": 363
        },
        "outputId": "b3a4a27e-e0c6-4590-f9db-2d64a9acb531"
      },
      "cell_type": "code",
      "source": [
        "# correlation with above 2 features\n",
        "numeric_category = [\"item_condition_id\", \"shipping\"]\n",
        "cor = mercari[numeric_category].corr()\n",
        "sns.heatmap(cor, annot=True)"
      ],
      "execution_count": 54,
      "outputs": [
        {
          "output_type": "execute_result",
          "data": {
            "text/plain": [
              "<matplotlib.axes._subplots.AxesSubplot at 0x7f25aab6b5c0>"
            ]
          },
          "metadata": {
            "tags": []
          },
          "execution_count": 54
        },
        {
          "output_type": "display_data",
          "data": {
            "image/png": "[encoded data removed]",
            "text/plain": [
              "<Figure size 576x396 with 2 Axes>"
            ]
          },
          "metadata": {
            "tags": []
          }
        }
      ]
    },
    {
      "metadata": {
        "id": "5fortxBqaHXR",
        "colab_type": "text"
      },
      "cell_type": "markdown",
      "source": [
        "### column \"category_name\" 1 to 5"
      ]
    },
    {
      "metadata": {
        "id": "cpxFXhkLaHXS",
        "colab_type": "code",
        "colab": {}
      },
      "cell_type": "code",
      "source": [
        "max_length = 3\n",
        "counter = 0\n",
        "greater_index_lists = []\n",
        "\n",
        "for category_text in mercari[\"category_name\"]:\n",
        "    if category_text == \"no_category\":\n",
        "        counter += 1\n",
        "        continue\n",
        "    else:\n",
        "        category_list = category_text.split(\"/\")        \n",
        "        if len(category_list) > 3:\n",
        "            greater_index_lists.append(counter) \n",
        "            counter += 1\n",
        "            if len(category_list) > max_length:\n",
        "                max_length = len(category_list)\n",
        "        else:\n",
        "            counter += 1"
      ],
      "execution_count": 0,
      "outputs": []
    },
    {
      "metadata": {
        "id": "f5sxv8AfaHXW",
        "colab_type": "code",
        "colab": {
          "base_uri": "https://localhost:8080/",
          "height": 33
        },
        "outputId": "3fb1333c-acfe-458a-aca6-7a752b03a79d"
      },
      "cell_type": "code",
      "source": [
        "len(greater_index_lists)"
      ],
      "execution_count": 21,
      "outputs": [
        {
          "output_type": "execute_result",
          "data": {
            "text/plain": [
              "4392"
            ]
          },
          "metadata": {
            "tags": []
          },
          "execution_count": 21
        }
      ]
    },
    {
      "metadata": {
        "id": "8L4SPiqTaHXa",
        "colab_type": "code",
        "colab": {
          "base_uri": "https://localhost:8080/",
          "height": 33
        },
        "outputId": "4976547a-9b45-4556-ff37-a4a4d529ee00"
      },
      "cell_type": "code",
      "source": [
        "counter"
      ],
      "execution_count": 57,
      "outputs": [
        {
          "output_type": "execute_result",
          "data": {
            "text/plain": [
              "1484801"
            ]
          },
          "metadata": {
            "tags": []
          },
          "execution_count": 57
        }
      ]
    },
    {
      "metadata": {
        "id": "yz3yCQR0aHXf",
        "colab_type": "code",
        "colab": {
          "base_uri": "https://localhost:8080/",
          "height": 33
        },
        "outputId": "6fff8812-0936-4d31-80f6-82f249a86b87"
      },
      "cell_type": "code",
      "source": [
        "max_length"
      ],
      "execution_count": 58,
      "outputs": [
        {
          "output_type": "execute_result",
          "data": {
            "text/plain": [
              "5"
            ]
          },
          "metadata": {
            "tags": []
          },
          "execution_count": 58
        }
      ]
    },
    {
      "metadata": {
        "id": "VmEU0H37aHXi",
        "colab_type": "code",
        "colab": {
          "base_uri": "https://localhost:8080/",
          "height": 33
        },
        "outputId": "048bb495-df22-40ef-ca12-77fb0e0ae9b1"
      },
      "cell_type": "code",
      "source": [
        "cat1 = []\n",
        "cat2 = []\n",
        "cat3 = []\n",
        "cat4 = []\n",
        "cat5 = []\n",
        "counter = 0\n",
        "\n",
        "for category_text in mercari[\"category_name\"]:\n",
        "    \n",
        "    if category_text == \"no_category\":\n",
        "        cat1.append(np.nan)\n",
        "        cat2.append(np.nan)\n",
        "        cat3.append(np.nan)\n",
        "        cat4.append(np.nan)\n",
        "        cat5.append(np.nan)\n",
        "        counter += 1\n",
        "    else:\n",
        "        category_list = category_text.split(\"/\")\n",
        "        \n",
        "        if len(category_list) == 3:\n",
        "            cat1.append(category_list[0])\n",
        "            cat2.append(category_list[1])\n",
        "            cat3.append(category_list[2])\n",
        "            cat4.append(np.nan)\n",
        "            cat5.append(np.nan)\n",
        "            counter += 1\n",
        "        elif len(category_list) == 4:\n",
        "            cat1.append(category_list[0])\n",
        "            cat2.append(category_list[1])\n",
        "            cat3.append(category_list[2])\n",
        "            cat4.append(category_list[3])\n",
        "            cat5.append(np.nan)\n",
        "            counter += 1       \n",
        "        elif len(category_list) == 5:\n",
        "            cat1.append(category_list[0])\n",
        "            cat2.append(category_list[1])\n",
        "            cat3.append(category_list[2])\n",
        "            cat4.append(category_list[3])\n",
        "            cat5.append(category_list[4])\n",
        "            counter += 1\n",
        "        else:\n",
        "            print(\"error\")\n",
        "            break\n",
        "            \n",
        "new_category = pd.DataFrame({\"category_A\": cat1, \"category_B\": cat2, \"category_C\": cat3, \"category_D\": cat4, \"category_E\": cat5})\n",
        "#len(new_category)\n",
        "counter"
      ],
      "execution_count": 22,
      "outputs": [
        {
          "output_type": "execute_result",
          "data": {
            "text/plain": [
              "1483904"
            ]
          },
          "metadata": {
            "tags": []
          },
          "execution_count": 22
        }
      ]
    },
    {
      "metadata": {
        "id": "7yXI7mIYaHXl",
        "colab_type": "code",
        "colab": {
          "base_uri": "https://localhost:8080/",
          "height": 33
        },
        "outputId": "c464f279-2ac5-4d5e-de78-9774d9b274b2"
      },
      "cell_type": "code",
      "source": [
        "new_category.shape"
      ],
      "execution_count": 23,
      "outputs": [
        {
          "output_type": "execute_result",
          "data": {
            "text/plain": [
              "(1483904, 5)"
            ]
          },
          "metadata": {
            "tags": []
          },
          "execution_count": 23
        }
      ]
    },
    {
      "metadata": {
        "id": "Nku6xk_DaHXp",
        "colab_type": "code",
        "colab": {}
      },
      "cell_type": "code",
      "source": [
        "mercari.drop(\"category_name\", axis=1, inplace=True)"
      ],
      "execution_count": 0,
      "outputs": []
    },
    {
      "metadata": {
        "id": "Vn08lMdcaHXt",
        "colab_type": "code",
        "colab": {
          "base_uri": "https://localhost:8080/",
          "height": 33
        },
        "outputId": "1fcb552b-2998-4443-e2dc-512fd5fb4f0f"
      },
      "cell_type": "code",
      "source": [
        "mercari.shape"
      ],
      "execution_count": 25,
      "outputs": [
        {
          "output_type": "execute_result",
          "data": {
            "text/plain": [
              "(1483904, 6)"
            ]
          },
          "metadata": {
            "tags": []
          },
          "execution_count": 25
        }
      ]
    },
    {
      "metadata": {
        "id": "OX7oEMMBaHXy",
        "colab_type": "code",
        "colab": {}
      },
      "cell_type": "code",
      "source": [
        "mercari.reset_index(drop=True, inplace=True)"
      ],
      "execution_count": 0,
      "outputs": []
    },
    {
      "metadata": {
        "id": "G5fMq-wraHX0",
        "colab_type": "code",
        "colab": {
          "base_uri": "https://localhost:8080/",
          "height": 33
        },
        "outputId": "a22d9c85-a89f-4afa-b4aa-0c789cf3a27d"
      },
      "cell_type": "code",
      "source": [
        "mercari_cat = pd.concat([mercari, new_category], axis=1)\n",
        "mercari_cat.shape"
      ],
      "execution_count": 28,
      "outputs": [
        {
          "output_type": "execute_result",
          "data": {
            "text/plain": [
              "(1483904, 11)"
            ]
          },
          "metadata": {
            "tags": []
          },
          "execution_count": 28
        }
      ]
    },
    {
      "metadata": {
        "scrolled": true,
        "id": "qY9kLen-aHX4",
        "colab_type": "code",
        "colab": {
          "base_uri": "https://localhost:8080/",
          "height": 264
        },
        "outputId": "eef35e71-98a9-4c46-d6d2-f3a06a23a434"
      },
      "cell_type": "code",
      "source": [
        "mercari_cat.head()"
      ],
      "execution_count": 65,
      "outputs": [
        {
          "output_type": "execute_result",
          "data": {
            "text/html": [
              "<div>\n",
              "<style scoped>\n",
              "    .dataframe tbody tr th:only-of-type {\n",
              "        vertical-align: middle;\n",
              "    }\n",
              "\n",
              "    .dataframe tbody tr th {\n",
              "        vertical-align: top;\n",
              "    }\n",
              "\n",
              "    .dataframe thead th {\n",
              "        text-align: right;\n",
              "    }\n",
              "</style>\n",
              "<table border=\"1\" class=\"dataframe\">\n",
              "  <thead>\n",
              "    <tr style=\"text-align: right;\">\n",
              "      <th></th>\n",
              "      <th>train_id</th>\n",
              "      <th>name</th>\n",
              "      <th>item_condition_id</th>\n",
              "      <th>brand_name</th>\n",
              "      <th>shipping</th>\n",
              "      <th>item_description</th>\n",
              "      <th>category_A</th>\n",
              "      <th>category_B</th>\n",
              "      <th>category_C</th>\n",
              "      <th>category_D</th>\n",
              "      <th>category_E</th>\n",
              "    </tr>\n",
              "  </thead>\n",
              "  <tbody>\n",
              "    <tr>\n",
              "      <th>0</th>\n",
              "      <td>0</td>\n",
              "      <td>MLB Cincinnati Reds T Shirt Size XL</td>\n",
              "      <td>3.0</td>\n",
              "      <td>no_brand</td>\n",
              "      <td>1.0</td>\n",
              "      <td>No description yet</td>\n",
              "      <td>Men</td>\n",
              "      <td>Tops</td>\n",
              "      <td>T-shirts</td>\n",
              "      <td>NaN</td>\n",
              "      <td>NaN</td>\n",
              "    </tr>\n",
              "    <tr>\n",
              "      <th>1</th>\n",
              "      <td>1</td>\n",
              "      <td>Razer BlackWidow Chroma Keyboard</td>\n",
              "      <td>3.0</td>\n",
              "      <td>Razer</td>\n",
              "      <td>0.0</td>\n",
              "      <td>This keyboard is in great condition and works ...</td>\n",
              "      <td>Electronics</td>\n",
              "      <td>Computers &amp; Tablets</td>\n",
              "      <td>Components &amp; Parts</td>\n",
              "      <td>NaN</td>\n",
              "      <td>NaN</td>\n",
              "    </tr>\n",
              "    <tr>\n",
              "      <th>2</th>\n",
              "      <td>2</td>\n",
              "      <td>AVA-VIV Blouse</td>\n",
              "      <td>1.0</td>\n",
              "      <td>Target</td>\n",
              "      <td>1.0</td>\n",
              "      <td>Adorable top with a hint of lace and a key hol...</td>\n",
              "      <td>Women</td>\n",
              "      <td>Tops &amp; Blouses</td>\n",
              "      <td>Blouse</td>\n",
              "      <td>NaN</td>\n",
              "      <td>NaN</td>\n",
              "    </tr>\n",
              "    <tr>\n",
              "      <th>3</th>\n",
              "      <td>3</td>\n",
              "      <td>Leather Horse Statues</td>\n",
              "      <td>1.0</td>\n",
              "      <td>no_brand</td>\n",
              "      <td>1.0</td>\n",
              "      <td>New with tags. Leather horses. Retail for [rm]...</td>\n",
              "      <td>Home</td>\n",
              "      <td>Home Décor</td>\n",
              "      <td>Home Décor Accents</td>\n",
              "      <td>NaN</td>\n",
              "      <td>NaN</td>\n",
              "    </tr>\n",
              "    <tr>\n",
              "      <th>4</th>\n",
              "      <td>4</td>\n",
              "      <td>24K GOLD plated rose</td>\n",
              "      <td>1.0</td>\n",
              "      <td>no_brand</td>\n",
              "      <td>0.0</td>\n",
              "      <td>Complete with certificate of authenticity</td>\n",
              "      <td>Women</td>\n",
              "      <td>Jewelry</td>\n",
              "      <td>Necklaces</td>\n",
              "      <td>NaN</td>\n",
              "      <td>NaN</td>\n",
              "    </tr>\n",
              "  </tbody>\n",
              "</table>\n",
              "</div>"
            ],
            "text/plain": [
              "  train_id                                 name  item_condition_id brand_name  \\\n",
              "0        0  MLB Cincinnati Reds T Shirt Size XL                3.0   no_brand   \n",
              "1        1     Razer BlackWidow Chroma Keyboard                3.0      Razer   \n",
              "2        2                       AVA-VIV Blouse                1.0     Target   \n",
              "3        3                Leather Horse Statues                1.0   no_brand   \n",
              "4        4                 24K GOLD plated rose                1.0   no_brand   \n",
              "\n",
              "   shipping                                   item_description   category_A  \\\n",
              "0       1.0                                 No description yet          Men   \n",
              "1       0.0  This keyboard is in great condition and works ...  Electronics   \n",
              "2       1.0  Adorable top with a hint of lace and a key hol...        Women   \n",
              "3       1.0  New with tags. Leather horses. Retail for [rm]...         Home   \n",
              "4       0.0          Complete with certificate of authenticity        Women   \n",
              "\n",
              "            category_B          category_C category_D category_E  \n",
              "0                 Tops            T-shirts        NaN        NaN  \n",
              "1  Computers & Tablets  Components & Parts        NaN        NaN  \n",
              "2       Tops & Blouses              Blouse        NaN        NaN  \n",
              "3           Home Décor  Home Décor Accents        NaN        NaN  \n",
              "4              Jewelry           Necklaces        NaN        NaN  "
            ]
          },
          "metadata": {
            "tags": []
          },
          "execution_count": 65
        }
      ]
    },
    {
      "metadata": {
        "id": "dg1EKTjaaHYB",
        "colab_type": "code",
        "colab": {
          "base_uri": "https://localhost:8080/",
          "height": 33
        },
        "outputId": "92dce9c5-b385-4b61-d071-5b3970acd898"
      },
      "cell_type": "code",
      "source": [
        "a = list(mercari_cat[\"category_A\"].unique())\n",
        "len(a)"
      ],
      "execution_count": 29,
      "outputs": [
        {
          "output_type": "execute_result",
          "data": {
            "text/plain": [
              "11"
            ]
          },
          "metadata": {
            "tags": []
          },
          "execution_count": 29
        }
      ]
    },
    {
      "metadata": {
        "id": "s7Q9Vh5kaHYE",
        "colab_type": "code",
        "colab": {
          "base_uri": "https://localhost:8080/",
          "height": 33
        },
        "outputId": "f1e501f3-0503-4cae-d613-1d4f2ba8f421"
      },
      "cell_type": "code",
      "source": [
        "b = list(mercari_cat[\"category_B\"].unique())\n",
        "len(b)"
      ],
      "execution_count": 30,
      "outputs": [
        {
          "output_type": "execute_result",
          "data": {
            "text/plain": [
              "114"
            ]
          },
          "metadata": {
            "tags": []
          },
          "execution_count": 30
        }
      ]
    },
    {
      "metadata": {
        "id": "tg2dM81JaHYJ",
        "colab_type": "code",
        "colab": {
          "base_uri": "https://localhost:8080/",
          "height": 66
        },
        "outputId": "08f0f948-d637-4d4a-b435-b1310d080fd3"
      },
      "cell_type": "code",
      "source": [
        "for i in range(0, len(a)):\n",
        "    if a[i] in b:\n",
        "        print(\"duplicates!\")"
      ],
      "execution_count": 68,
      "outputs": [
        {
          "output_type": "stream",
          "text": [
            "duplicates!\n",
            "duplicates!\n",
            "duplicates!\n"
          ],
          "name": "stdout"
        }
      ]
    },
    {
      "metadata": {
        "id": "pWJwOo46aHYO",
        "colab_type": "code",
        "colab": {
          "base_uri": "https://localhost:8080/",
          "height": 197
        },
        "outputId": "f03ffebe-ff85-448b-bb68-d917c03d5f1c"
      },
      "cell_type": "code",
      "source": [
        "df_A = pd.concat([mercari_cat[\"category_A\"], mercari_price], axis=1)\n",
        "df_A.head()"
      ],
      "execution_count": 31,
      "outputs": [
        {
          "output_type": "execute_result",
          "data": {
            "text/html": [
              "<div>\n",
              "<style scoped>\n",
              "    .dataframe tbody tr th:only-of-type {\n",
              "        vertical-align: middle;\n",
              "    }\n",
              "\n",
              "    .dataframe tbody tr th {\n",
              "        vertical-align: top;\n",
              "    }\n",
              "\n",
              "    .dataframe thead th {\n",
              "        text-align: right;\n",
              "    }\n",
              "</style>\n",
              "<table border=\"1\" class=\"dataframe\">\n",
              "  <thead>\n",
              "    <tr style=\"text-align: right;\">\n",
              "      <th></th>\n",
              "      <th>category_A</th>\n",
              "      <th>price</th>\n",
              "      <th>train_id</th>\n",
              "    </tr>\n",
              "  </thead>\n",
              "  <tbody>\n",
              "    <tr>\n",
              "      <th>0</th>\n",
              "      <td>Men</td>\n",
              "      <td>10.0</td>\n",
              "      <td>0</td>\n",
              "    </tr>\n",
              "    <tr>\n",
              "      <th>1</th>\n",
              "      <td>Electronics</td>\n",
              "      <td>52.0</td>\n",
              "      <td>1</td>\n",
              "    </tr>\n",
              "    <tr>\n",
              "      <th>2</th>\n",
              "      <td>Women</td>\n",
              "      <td>10.0</td>\n",
              "      <td>2</td>\n",
              "    </tr>\n",
              "    <tr>\n",
              "      <th>3</th>\n",
              "      <td>Home</td>\n",
              "      <td>35.0</td>\n",
              "      <td>3</td>\n",
              "    </tr>\n",
              "    <tr>\n",
              "      <th>4</th>\n",
              "      <td>Women</td>\n",
              "      <td>44.0</td>\n",
              "      <td>4</td>\n",
              "    </tr>\n",
              "  </tbody>\n",
              "</table>\n",
              "</div>"
            ],
            "text/plain": [
              "    category_A  price train_id\n",
              "0          Men   10.0        0\n",
              "1  Electronics   52.0        1\n",
              "2        Women   10.0        2\n",
              "3         Home   35.0        3\n",
              "4        Women   44.0        4"
            ]
          },
          "metadata": {
            "tags": []
          },
          "execution_count": 31
        }
      ]
    },
    {
      "metadata": {
        "id": "xznmbYQRaHYT",
        "colab_type": "code",
        "colab": {
          "base_uri": "https://localhost:8080/",
          "height": 33
        },
        "outputId": "899bb092-20fc-467b-fde6-a4e8f55af35e"
      },
      "cell_type": "code",
      "source": [
        "df_A.shape"
      ],
      "execution_count": 70,
      "outputs": [
        {
          "output_type": "execute_result",
          "data": {
            "text/plain": [
              "(1484806, 3)"
            ]
          },
          "metadata": {
            "tags": []
          },
          "execution_count": 70
        }
      ]
    },
    {
      "metadata": {
        "id": "eCjTD4DUaHYd",
        "colab_type": "code",
        "colab": {}
      },
      "cell_type": "code",
      "source": [
        "plt.rcParams['figure.figsize'] = (400.0, 200.0)"
      ],
      "execution_count": 0,
      "outputs": []
    },
    {
      "metadata": {
        "id": "ma2rG-gPaHYh",
        "colab_type": "text"
      },
      "cell_type": "markdown",
      "source": [
        "It looks like category_A has some relationship with Price.  "
      ]
    },
    {
      "metadata": {
        "id": "lxsH9X11aHYi",
        "colab_type": "code",
        "colab": {}
      },
      "cell_type": "code",
      "source": [
        "# plt.figure(figsize=(2000, 800))\n",
        "sns.catplot(x=\"category_A\", y=\"price\", kind=\"box\", data=df_A);\n",
        "plt.show();"
      ],
      "execution_count": 0,
      "outputs": []
    },
    {
      "metadata": {
        "scrolled": true,
        "id": "v2vqf3BFaHYm",
        "colab_type": "code",
        "colab": {
          "base_uri": "https://localhost:8080/",
          "height": 197
        },
        "outputId": "bfda93a4-7481-4ad6-d196-d05b03a988de"
      },
      "cell_type": "code",
      "source": [
        "df_B = pd.concat([mercari_cat[\"category_B\"], mercari_price], axis=1)\n",
        "df_B.head()"
      ],
      "execution_count": 32,
      "outputs": [
        {
          "output_type": "execute_result",
          "data": {
            "text/html": [
              "<div>\n",
              "<style scoped>\n",
              "    .dataframe tbody tr th:only-of-type {\n",
              "        vertical-align: middle;\n",
              "    }\n",
              "\n",
              "    .dataframe tbody tr th {\n",
              "        vertical-align: top;\n",
              "    }\n",
              "\n",
              "    .dataframe thead th {\n",
              "        text-align: right;\n",
              "    }\n",
              "</style>\n",
              "<table border=\"1\" class=\"dataframe\">\n",
              "  <thead>\n",
              "    <tr style=\"text-align: right;\">\n",
              "      <th></th>\n",
              "      <th>category_B</th>\n",
              "      <th>price</th>\n",
              "      <th>train_id</th>\n",
              "    </tr>\n",
              "  </thead>\n",
              "  <tbody>\n",
              "    <tr>\n",
              "      <th>0</th>\n",
              "      <td>Tops</td>\n",
              "      <td>10.0</td>\n",
              "      <td>0</td>\n",
              "    </tr>\n",
              "    <tr>\n",
              "      <th>1</th>\n",
              "      <td>Computers &amp; Tablets</td>\n",
              "      <td>52.0</td>\n",
              "      <td>1</td>\n",
              "    </tr>\n",
              "    <tr>\n",
              "      <th>2</th>\n",
              "      <td>Tops &amp; Blouses</td>\n",
              "      <td>10.0</td>\n",
              "      <td>2</td>\n",
              "    </tr>\n",
              "    <tr>\n",
              "      <th>3</th>\n",
              "      <td>Home Décor</td>\n",
              "      <td>35.0</td>\n",
              "      <td>3</td>\n",
              "    </tr>\n",
              "    <tr>\n",
              "      <th>4</th>\n",
              "      <td>Jewelry</td>\n",
              "      <td>44.0</td>\n",
              "      <td>4</td>\n",
              "    </tr>\n",
              "  </tbody>\n",
              "</table>\n",
              "</div>"
            ],
            "text/plain": [
              "            category_B  price train_id\n",
              "0                 Tops   10.0        0\n",
              "1  Computers & Tablets   52.0        1\n",
              "2       Tops & Blouses   10.0        2\n",
              "3           Home Décor   35.0        3\n",
              "4              Jewelry   44.0        4"
            ]
          },
          "metadata": {
            "tags": []
          },
          "execution_count": 32
        }
      ]
    },
    {
      "metadata": {
        "id": "qS2WMMrWaHYt",
        "colab_type": "code",
        "colab": {}
      },
      "cell_type": "code",
      "source": [
        "plt.figure(figsize=(20, 12))\n",
        "sns.catplot(x=\"category_B\", y=\"price\", kind=\"swarm\", data=df_B);\n",
        "plt.show();"
      ],
      "execution_count": 0,
      "outputs": []
    },
    {
      "metadata": {
        "id": "4kcEAdEzaHYz",
        "colab_type": "text"
      },
      "cell_type": "markdown",
      "source": [
        "## What I found till now about features\n",
        "Slightly related with Price  \n",
        "- item_condition_id\n",
        "- shipping\n",
        "   \n",
        "Generally related with Price  \n",
        "- category_name (SVD)\n",
        "- brand_name ()\n",
        "\n",
        "Not yet checked (tf-idf -> word2vec -> t-SNE)\n",
        "- name\n",
        "- item_description"
      ]
    },
    {
      "metadata": {
        "id": "rEm-dauUaHY3",
        "colab_type": "text"
      },
      "cell_type": "markdown",
      "source": [
        "### for \"brand_name\", I will use t-SNE/PCA to reduce about 5k categories to 2D/3D"
      ]
    },
    {
      "metadata": {
        "id": "jv2-e6g-aHY5",
        "colab_type": "code",
        "colab": {
          "base_uri": "https://localhost:8080/",
          "height": 33
        },
        "outputId": "e4ce21ba-6db3-4aff-f23e-79416169b148"
      },
      "cell_type": "code",
      "source": [
        "# count unique value\n",
        "len(mercari[\"brand_name\"].unique())"
      ],
      "execution_count": 33,
      "outputs": [
        {
          "output_type": "execute_result",
          "data": {
            "text/plain": [
              "4810"
            ]
          },
          "metadata": {
            "tags": []
          },
          "execution_count": 33
        }
      ]
    },
    {
      "metadata": {
        "id": "uCBvcZySaHY9",
        "colab_type": "text"
      },
      "cell_type": "markdown",
      "source": [
        "I will check the price distribution which has brand or not"
      ]
    },
    {
      "metadata": {
        "id": "QHzeMxRLaHY-",
        "colab_type": "code",
        "colab": {
          "base_uri": "https://localhost:8080/",
          "height": 33
        },
        "outputId": "27769f00-0a31-4a78-a48b-eb1643ae95ed"
      },
      "cell_type": "code",
      "source": [
        "len(mercari[\"brand_name\"])"
      ],
      "execution_count": 34,
      "outputs": [
        {
          "output_type": "execute_result",
          "data": {
            "text/plain": [
              "1483904"
            ]
          },
          "metadata": {
            "tags": []
          },
          "execution_count": 34
        }
      ]
    },
    {
      "metadata": {
        "id": "zTYNiygYaHZB",
        "colab_type": "code",
        "colab": {
          "base_uri": "https://localhost:8080/",
          "height": 50
        },
        "outputId": "9bcc8e48-ae6b-4c15-dbf9-ae5a0f23a4bb"
      },
      "cell_type": "code",
      "source": [
        "index_num = 0\n",
        "no_brand_index = []\n",
        "brand_index = []\n",
        "\n",
        "for v in mercari[\"brand_name\"]:\n",
        "    if v == \"no_brand\":\n",
        "        no_brand_index.append(index_num)\n",
        "        index_num += 1\n",
        "    else:\n",
        "        brand_index.append(index_num)\n",
        "        index_num += 1\n",
        "\n",
        "print(\"Length of no_brand_index: \", len(no_brand_index))\n",
        "print(\"Length of brand_index: \", len(brand_index))"
      ],
      "execution_count": 35,
      "outputs": [
        {
          "output_type": "stream",
          "text": [
            "Length of no_brand_index:  633273\n",
            "Length of brand_index:  850631\n"
          ],
          "name": "stdout"
        }
      ]
    },
    {
      "metadata": {
        "id": "Mf-HwWoJhvgT",
        "colab_type": "code",
        "colab": {}
      },
      "cell_type": "code",
      "source": [
        "sns.distplot(mercari.ix[no_brand_index, \"brand_name\"], color=\"skyblue\", label=\"No Brand\")\n",
        "sns.distplot(mercari.ix[brand_index, \"brand_name\"], color=\"red\", label=\"Brand Products\")\n",
        "sns.plt.legend()"
      ],
      "execution_count": 0,
      "outputs": []
    },
    {
      "metadata": {
        "id": "Xsp6KRtlaHZG",
        "colab_type": "text"
      },
      "cell_type": "markdown",
      "source": [
        "# Preorocessing for NLP"
      ]
    },
    {
      "metadata": {
        "id": "uWihf_zlaHZH",
        "colab_type": "text"
      },
      "cell_type": "markdown",
      "source": [
        "I will treat two features \"name\" and \"item_description\" as text data.  "
      ]
    },
    {
      "metadata": {
        "id": "bl0ZzcmvaHZI",
        "colab_type": "text"
      },
      "cell_type": "markdown",
      "source": [
        "#### Process\n",
        "1. Concat \"name\" and \"item_description\"\n",
        "2. Remove all irrelevant characters such as 24 or @\n",
        "3. Tokenize your text by separating it into individual words\n",
        "4. Normalize all characters to lowercase, in order to treat words such as “hello”, “Hello”, and “HELLO” the same\n",
        "5. Lemmatization (reduce words such as “am”, “are”, and “is” to a common form such as “be”)\n",
        "6. Remove \"stopwords\"\n",
        "7. Bag of words: TF-IDF\n",
        "8. Dimensional Reduction: t-SNE and LDA\n",
        "\n",
        "\"name\" and \"item_description\" -> BoW -> 2D or 3D\n",
        "\n",
        "-----------------------------\n",
        "\n",
        "* Bag of Words: CountVectorizer & TF-IDF is scaler: from word to scale\n",
        "* Word Embedding: word2vec, doc2vec, seq2seq is semantic vector"
      ]
    },
    {
      "metadata": {
        "id": "Z3F6b3QQaHZJ",
        "colab_type": "code",
        "colab": {
          "base_uri": "https://localhost:8080/",
          "height": 647
        },
        "outputId": "b59b84e6-b236-41ac-c23c-a07364af8d48"
      },
      "cell_type": "code",
      "source": [
        "mercari[[\"name\", \"item_description\"]].head(20)"
      ],
      "execution_count": 36,
      "outputs": [
        {
          "output_type": "execute_result",
          "data": {
            "text/html": [
              "<div>\n",
              "<style scoped>\n",
              "    .dataframe tbody tr th:only-of-type {\n",
              "        vertical-align: middle;\n",
              "    }\n",
              "\n",
              "    .dataframe tbody tr th {\n",
              "        vertical-align: top;\n",
              "    }\n",
              "\n",
              "    .dataframe thead th {\n",
              "        text-align: right;\n",
              "    }\n",
              "</style>\n",
              "<table border=\"1\" class=\"dataframe\">\n",
              "  <thead>\n",
              "    <tr style=\"text-align: right;\">\n",
              "      <th></th>\n",
              "      <th>name</th>\n",
              "      <th>item_description</th>\n",
              "    </tr>\n",
              "  </thead>\n",
              "  <tbody>\n",
              "    <tr>\n",
              "      <th>0</th>\n",
              "      <td>MLB Cincinnati Reds T Shirt Size XL</td>\n",
              "      <td>No description yet</td>\n",
              "    </tr>\n",
              "    <tr>\n",
              "      <th>1</th>\n",
              "      <td>Razer BlackWidow Chroma Keyboard</td>\n",
              "      <td>This keyboard is in great condition and works ...</td>\n",
              "    </tr>\n",
              "    <tr>\n",
              "      <th>2</th>\n",
              "      <td>AVA-VIV Blouse</td>\n",
              "      <td>Adorable top with a hint of lace and a key hol...</td>\n",
              "    </tr>\n",
              "    <tr>\n",
              "      <th>3</th>\n",
              "      <td>Leather Horse Statues</td>\n",
              "      <td>New with tags. Leather horses. Retail for [rm]...</td>\n",
              "    </tr>\n",
              "    <tr>\n",
              "      <th>4</th>\n",
              "      <td>24K GOLD plated rose</td>\n",
              "      <td>Complete with certificate of authenticity</td>\n",
              "    </tr>\n",
              "    <tr>\n",
              "      <th>5</th>\n",
              "      <td>Bundled items requested for Ruie</td>\n",
              "      <td>Banana republic bottoms, Candies skirt with ma...</td>\n",
              "    </tr>\n",
              "    <tr>\n",
              "      <th>6</th>\n",
              "      <td>Acacia pacific tides santorini top</td>\n",
              "      <td>Size small but straps slightly shortened to fi...</td>\n",
              "    </tr>\n",
              "    <tr>\n",
              "      <th>7</th>\n",
              "      <td>Girls cheer and tumbling bundle of 7</td>\n",
              "      <td>You get three pairs of Sophie cheer shorts siz...</td>\n",
              "    </tr>\n",
              "    <tr>\n",
              "      <th>8</th>\n",
              "      <td>Girls Nike Pro shorts</td>\n",
              "      <td>Girls Size small Plus green. Three shorts total.</td>\n",
              "    </tr>\n",
              "    <tr>\n",
              "      <th>9</th>\n",
              "      <td>Porcelain clown doll checker pants VTG</td>\n",
              "      <td>I realized his pants are on backwards after th...</td>\n",
              "    </tr>\n",
              "    <tr>\n",
              "      <th>10</th>\n",
              "      <td>Smashbox primer</td>\n",
              "      <td>0.25 oz Full size is 1oz for [rm] in Sephora</td>\n",
              "    </tr>\n",
              "    <tr>\n",
              "      <th>11</th>\n",
              "      <td>New vs pi k body mists</td>\n",
              "      <td>(5) new vs pink body mists (2.5 oz each) Fresh...</td>\n",
              "    </tr>\n",
              "    <tr>\n",
              "      <th>12</th>\n",
              "      <td>Black Skater dress</td>\n",
              "      <td>Xl, great condition</td>\n",
              "    </tr>\n",
              "    <tr>\n",
              "      <th>13</th>\n",
              "      <td>Sharpener and eraser</td>\n",
              "      <td>No description yet</td>\n",
              "    </tr>\n",
              "    <tr>\n",
              "      <th>14</th>\n",
              "      <td>HOLD for Dogs2016 Minnetonka boots</td>\n",
              "      <td>Authentic. Suede fringe boots. Great condition...</td>\n",
              "    </tr>\n",
              "    <tr>\n",
              "      <th>15</th>\n",
              "      <td>Sephora tarte birthday gift</td>\n",
              "      <td>Brand new. Deluxe travel size products. Contai...</td>\n",
              "    </tr>\n",
              "    <tr>\n",
              "      <th>16</th>\n",
              "      <td>Glitter Eyeshadow</td>\n",
              "      <td>2 glitter eyeshadows; one in Brass and one in ...</td>\n",
              "    </tr>\n",
              "    <tr>\n",
              "      <th>17</th>\n",
              "      <td>New: Baby K'tan active baby carrier</td>\n",
              "      <td>Brand new in box Size: Medium Color: Coral Ret...</td>\n",
              "    </tr>\n",
              "    <tr>\n",
              "      <th>18</th>\n",
              "      <td>Too Faced Limited \"Merry Macaroons\"</td>\n",
              "      <td>This AUTHENTIC pallete by Too Faced is brand n...</td>\n",
              "    </tr>\n",
              "    <tr>\n",
              "      <th>19</th>\n",
              "      <td>Cream/ Beige Front Cross Shirt</td>\n",
              "      <td>Fancy, dressy or casual! Dress it up or down 1...</td>\n",
              "    </tr>\n",
              "  </tbody>\n",
              "</table>\n",
              "</div>"
            ],
            "text/plain": [
              "                                      name  \\\n",
              "0      MLB Cincinnati Reds T Shirt Size XL   \n",
              "1         Razer BlackWidow Chroma Keyboard   \n",
              "2                           AVA-VIV Blouse   \n",
              "3                    Leather Horse Statues   \n",
              "4                     24K GOLD plated rose   \n",
              "5         Bundled items requested for Ruie   \n",
              "6       Acacia pacific tides santorini top   \n",
              "7     Girls cheer and tumbling bundle of 7   \n",
              "8                    Girls Nike Pro shorts   \n",
              "9   Porcelain clown doll checker pants VTG   \n",
              "10                         Smashbox primer   \n",
              "11                  New vs pi k body mists   \n",
              "12                      Black Skater dress   \n",
              "13                    Sharpener and eraser   \n",
              "14      HOLD for Dogs2016 Minnetonka boots   \n",
              "15             Sephora tarte birthday gift   \n",
              "16                       Glitter Eyeshadow   \n",
              "17     New: Baby K'tan active baby carrier   \n",
              "18     Too Faced Limited \"Merry Macaroons\"   \n",
              "19          Cream/ Beige Front Cross Shirt   \n",
              "\n",
              "                                     item_description  \n",
              "0                                  No description yet  \n",
              "1   This keyboard is in great condition and works ...  \n",
              "2   Adorable top with a hint of lace and a key hol...  \n",
              "3   New with tags. Leather horses. Retail for [rm]...  \n",
              "4           Complete with certificate of authenticity  \n",
              "5   Banana republic bottoms, Candies skirt with ma...  \n",
              "6   Size small but straps slightly shortened to fi...  \n",
              "7   You get three pairs of Sophie cheer shorts siz...  \n",
              "8    Girls Size small Plus green. Three shorts total.  \n",
              "9   I realized his pants are on backwards after th...  \n",
              "10       0.25 oz Full size is 1oz for [rm] in Sephora  \n",
              "11  (5) new vs pink body mists (2.5 oz each) Fresh...  \n",
              "12                                Xl, great condition  \n",
              "13                                 No description yet  \n",
              "14  Authentic. Suede fringe boots. Great condition...  \n",
              "15  Brand new. Deluxe travel size products. Contai...  \n",
              "16  2 glitter eyeshadows; one in Brass and one in ...  \n",
              "17  Brand new in box Size: Medium Color: Coral Ret...  \n",
              "18  This AUTHENTIC pallete by Too Faced is brand n...  \n",
              "19  Fancy, dressy or casual! Dress it up or down 1...  "
            ]
          },
          "metadata": {
            "tags": []
          },
          "execution_count": 36
        }
      ]
    },
    {
      "metadata": {
        "scrolled": true,
        "id": "MbYxYt4gaHZM",
        "colab_type": "code",
        "colab": {
          "base_uri": "https://localhost:8080/",
          "height": 66
        },
        "outputId": "99325f53-5835-4644-8cd4-a0355d25ce9c"
      },
      "cell_type": "code",
      "source": [
        "mercari[[\"name\", \"item_description\"]].isnull().sum()"
      ],
      "execution_count": 37,
      "outputs": [
        {
          "output_type": "execute_result",
          "data": {
            "text/plain": [
              "name                0\n",
              "item_description    0\n",
              "dtype: int64"
            ]
          },
          "metadata": {
            "tags": []
          },
          "execution_count": 37
        }
      ]
    },
    {
      "metadata": {
        "id": "gAZKQb09aHZT",
        "colab_type": "text"
      },
      "cell_type": "markdown",
      "source": [
        "In description, some data have \"No description yet\". I will remove this as stopword before."
      ]
    },
    {
      "metadata": {
        "id": "eV87ao7jaHZT",
        "colab_type": "code",
        "colab": {}
      },
      "cell_type": "code",
      "source": [
        "no_desc = mercari[mercari[\"item_description\"]==\"No description yet\"].index"
      ],
      "execution_count": 0,
      "outputs": []
    },
    {
      "metadata": {
        "id": "2hxFXPbTaHZY",
        "colab_type": "code",
        "colab": {
          "base_uri": "https://localhost:8080/",
          "height": 33
        },
        "outputId": "89505947-d7d5-4116-df3f-8ba565802a1e"
      },
      "cell_type": "code",
      "source": [
        "type(no_desc)"
      ],
      "execution_count": 39,
      "outputs": [
        {
          "output_type": "execute_result",
          "data": {
            "text/plain": [
              "pandas.core.indexes.numeric.Int64Index"
            ]
          },
          "metadata": {
            "tags": []
          },
          "execution_count": 39
        }
      ]
    },
    {
      "metadata": {
        "id": "Ms7JqzlKaHZb",
        "colab_type": "code",
        "colab": {
          "base_uri": "https://localhost:8080/",
          "height": 33
        },
        "outputId": "bffb7d2c-5602-4c3c-8ea0-a1d6bbbc781f"
      },
      "cell_type": "code",
      "source": [
        "len(no_desc)"
      ],
      "execution_count": 40,
      "outputs": [
        {
          "output_type": "execute_result",
          "data": {
            "text/plain": [
              "82553"
            ]
          },
          "metadata": {
            "tags": []
          },
          "execution_count": 40
        }
      ]
    },
    {
      "metadata": {
        "id": "EBQp4xAsaHZe",
        "colab_type": "code",
        "colab": {}
      },
      "cell_type": "code",
      "source": [
        "no_desc_list = list(no_desc)"
      ],
      "execution_count": 0,
      "outputs": []
    },
    {
      "metadata": {
        "id": "9tziTU7EaHZs",
        "colab_type": "code",
        "colab": {
          "base_uri": "https://localhost:8080/",
          "height": 150
        },
        "outputId": "1d706183-3eb1-407f-a1b5-e352c862283f"
      },
      "cell_type": "code",
      "source": [
        "mercari.ix[no_desc_list, \"item_description\"] = np.nan"
      ],
      "execution_count": 43,
      "outputs": [
        {
          "output_type": "stream",
          "text": [
            "/usr/local/lib/python3.6/dist-packages/ipykernel_launcher.py:1: DeprecationWarning: \n",
            ".ix is deprecated. Please use\n",
            ".loc for label based indexing or\n",
            ".iloc for positional indexing\n",
            "\n",
            "See the documentation here:\n",
            "http://pandas.pydata.org/pandas-docs/stable/indexing.html#ix-indexer-is-deprecated\n",
            "  \"\"\"Entry point for launching an IPython kernel.\n"
          ],
          "name": "stderr"
        }
      ]
    },
    {
      "metadata": {
        "id": "nife_zPhjjfS",
        "colab_type": "code",
        "colab": {
          "base_uri": "https://localhost:8080/",
          "height": 133
        },
        "outputId": "465c2c0b-9854-4c84-aa38-d73756918066"
      },
      "cell_type": "code",
      "source": [
        "mercari.isnull().sum()"
      ],
      "execution_count": 44,
      "outputs": [
        {
          "output_type": "execute_result",
          "data": {
            "text/plain": [
              "train_id                 0\n",
              "name                     0\n",
              "item_condition_id        0\n",
              "brand_name               0\n",
              "shipping                 0\n",
              "item_description     82553\n",
              "dtype: int64"
            ]
          },
          "metadata": {
            "tags": []
          },
          "execution_count": 44
        }
      ]
    },
    {
      "metadata": {
        "id": "zS9C61xYaHZx",
        "colab_type": "code",
        "colab": {}
      },
      "cell_type": "code",
      "source": [
        "mercari[\"item_description\"].fillna(\"\", inplace=True)"
      ],
      "execution_count": 0,
      "outputs": []
    },
    {
      "metadata": {
        "id": "slbQMhl0aHZ8",
        "colab_type": "code",
        "colab": {
          "base_uri": "https://localhost:8080/",
          "height": 647
        },
        "outputId": "4d270222-aeee-4de8-e9e8-96275ea17b39"
      },
      "cell_type": "code",
      "source": [
        "mercari[[\"name\", \"item_description\"]].head(20)"
      ],
      "execution_count": 46,
      "outputs": [
        {
          "output_type": "execute_result",
          "data": {
            "text/html": [
              "<div>\n",
              "<style scoped>\n",
              "    .dataframe tbody tr th:only-of-type {\n",
              "        vertical-align: middle;\n",
              "    }\n",
              "\n",
              "    .dataframe tbody tr th {\n",
              "        vertical-align: top;\n",
              "    }\n",
              "\n",
              "    .dataframe thead th {\n",
              "        text-align: right;\n",
              "    }\n",
              "</style>\n",
              "<table border=\"1\" class=\"dataframe\">\n",
              "  <thead>\n",
              "    <tr style=\"text-align: right;\">\n",
              "      <th></th>\n",
              "      <th>name</th>\n",
              "      <th>item_description</th>\n",
              "    </tr>\n",
              "  </thead>\n",
              "  <tbody>\n",
              "    <tr>\n",
              "      <th>0</th>\n",
              "      <td>MLB Cincinnati Reds T Shirt Size XL</td>\n",
              "      <td></td>\n",
              "    </tr>\n",
              "    <tr>\n",
              "      <th>1</th>\n",
              "      <td>Razer BlackWidow Chroma Keyboard</td>\n",
              "      <td>This keyboard is in great condition and works ...</td>\n",
              "    </tr>\n",
              "    <tr>\n",
              "      <th>2</th>\n",
              "      <td>AVA-VIV Blouse</td>\n",
              "      <td>Adorable top with a hint of lace and a key hol...</td>\n",
              "    </tr>\n",
              "    <tr>\n",
              "      <th>3</th>\n",
              "      <td>Leather Horse Statues</td>\n",
              "      <td>New with tags. Leather horses. Retail for [rm]...</td>\n",
              "    </tr>\n",
              "    <tr>\n",
              "      <th>4</th>\n",
              "      <td>24K GOLD plated rose</td>\n",
              "      <td>Complete with certificate of authenticity</td>\n",
              "    </tr>\n",
              "    <tr>\n",
              "      <th>5</th>\n",
              "      <td>Bundled items requested for Ruie</td>\n",
              "      <td>Banana republic bottoms, Candies skirt with ma...</td>\n",
              "    </tr>\n",
              "    <tr>\n",
              "      <th>6</th>\n",
              "      <td>Acacia pacific tides santorini top</td>\n",
              "      <td>Size small but straps slightly shortened to fi...</td>\n",
              "    </tr>\n",
              "    <tr>\n",
              "      <th>7</th>\n",
              "      <td>Girls cheer and tumbling bundle of 7</td>\n",
              "      <td>You get three pairs of Sophie cheer shorts siz...</td>\n",
              "    </tr>\n",
              "    <tr>\n",
              "      <th>8</th>\n",
              "      <td>Girls Nike Pro shorts</td>\n",
              "      <td>Girls Size small Plus green. Three shorts total.</td>\n",
              "    </tr>\n",
              "    <tr>\n",
              "      <th>9</th>\n",
              "      <td>Porcelain clown doll checker pants VTG</td>\n",
              "      <td>I realized his pants are on backwards after th...</td>\n",
              "    </tr>\n",
              "    <tr>\n",
              "      <th>10</th>\n",
              "      <td>Smashbox primer</td>\n",
              "      <td>0.25 oz Full size is 1oz for [rm] in Sephora</td>\n",
              "    </tr>\n",
              "    <tr>\n",
              "      <th>11</th>\n",
              "      <td>New vs pi k body mists</td>\n",
              "      <td>(5) new vs pink body mists (2.5 oz each) Fresh...</td>\n",
              "    </tr>\n",
              "    <tr>\n",
              "      <th>12</th>\n",
              "      <td>Black Skater dress</td>\n",
              "      <td>Xl, great condition</td>\n",
              "    </tr>\n",
              "    <tr>\n",
              "      <th>13</th>\n",
              "      <td>Sharpener and eraser</td>\n",
              "      <td></td>\n",
              "    </tr>\n",
              "    <tr>\n",
              "      <th>14</th>\n",
              "      <td>HOLD for Dogs2016 Minnetonka boots</td>\n",
              "      <td>Authentic. Suede fringe boots. Great condition...</td>\n",
              "    </tr>\n",
              "    <tr>\n",
              "      <th>15</th>\n",
              "      <td>Sephora tarte birthday gift</td>\n",
              "      <td>Brand new. Deluxe travel size products. Contai...</td>\n",
              "    </tr>\n",
              "    <tr>\n",
              "      <th>16</th>\n",
              "      <td>Glitter Eyeshadow</td>\n",
              "      <td>2 glitter eyeshadows; one in Brass and one in ...</td>\n",
              "    </tr>\n",
              "    <tr>\n",
              "      <th>17</th>\n",
              "      <td>New: Baby K'tan active baby carrier</td>\n",
              "      <td>Brand new in box Size: Medium Color: Coral Ret...</td>\n",
              "    </tr>\n",
              "    <tr>\n",
              "      <th>18</th>\n",
              "      <td>Too Faced Limited \"Merry Macaroons\"</td>\n",
              "      <td>This AUTHENTIC pallete by Too Faced is brand n...</td>\n",
              "    </tr>\n",
              "    <tr>\n",
              "      <th>19</th>\n",
              "      <td>Cream/ Beige Front Cross Shirt</td>\n",
              "      <td>Fancy, dressy or casual! Dress it up or down 1...</td>\n",
              "    </tr>\n",
              "  </tbody>\n",
              "</table>\n",
              "</div>"
            ],
            "text/plain": [
              "                                      name  \\\n",
              "0      MLB Cincinnati Reds T Shirt Size XL   \n",
              "1         Razer BlackWidow Chroma Keyboard   \n",
              "2                           AVA-VIV Blouse   \n",
              "3                    Leather Horse Statues   \n",
              "4                     24K GOLD plated rose   \n",
              "5         Bundled items requested for Ruie   \n",
              "6       Acacia pacific tides santorini top   \n",
              "7     Girls cheer and tumbling bundle of 7   \n",
              "8                    Girls Nike Pro shorts   \n",
              "9   Porcelain clown doll checker pants VTG   \n",
              "10                         Smashbox primer   \n",
              "11                  New vs pi k body mists   \n",
              "12                      Black Skater dress   \n",
              "13                    Sharpener and eraser   \n",
              "14      HOLD for Dogs2016 Minnetonka boots   \n",
              "15             Sephora tarte birthday gift   \n",
              "16                       Glitter Eyeshadow   \n",
              "17     New: Baby K'tan active baby carrier   \n",
              "18     Too Faced Limited \"Merry Macaroons\"   \n",
              "19          Cream/ Beige Front Cross Shirt   \n",
              "\n",
              "                                     item_description  \n",
              "0                                                      \n",
              "1   This keyboard is in great condition and works ...  \n",
              "2   Adorable top with a hint of lace and a key hol...  \n",
              "3   New with tags. Leather horses. Retail for [rm]...  \n",
              "4           Complete with certificate of authenticity  \n",
              "5   Banana republic bottoms, Candies skirt with ma...  \n",
              "6   Size small but straps slightly shortened to fi...  \n",
              "7   You get three pairs of Sophie cheer shorts siz...  \n",
              "8    Girls Size small Plus green. Three shorts total.  \n",
              "9   I realized his pants are on backwards after th...  \n",
              "10       0.25 oz Full size is 1oz for [rm] in Sephora  \n",
              "11  (5) new vs pink body mists (2.5 oz each) Fresh...  \n",
              "12                                Xl, great condition  \n",
              "13                                                     \n",
              "14  Authentic. Suede fringe boots. Great condition...  \n",
              "15  Brand new. Deluxe travel size products. Contai...  \n",
              "16  2 glitter eyeshadows; one in Brass and one in ...  \n",
              "17  Brand new in box Size: Medium Color: Coral Ret...  \n",
              "18  This AUTHENTIC pallete by Too Faced is brand n...  \n",
              "19  Fancy, dressy or casual! Dress it up or down 1...  "
            ]
          },
          "metadata": {
            "tags": []
          },
          "execution_count": 46
        }
      ]
    },
    {
      "metadata": {
        "id": "iQiPlgJcaHaC",
        "colab_type": "code",
        "colab": {
          "base_uri": "https://localhost:8080/",
          "height": 197
        },
        "outputId": "5d89d2d6-df56-4266-df93-2caecf84f53e"
      },
      "cell_type": "code",
      "source": [
        "mercari_text = pd.concat([mercari[\"name\"], mercari[\"item_description\"]], axis=1)\n",
        "mercari_text.head()"
      ],
      "execution_count": 47,
      "outputs": [
        {
          "output_type": "execute_result",
          "data": {
            "text/html": [
              "<div>\n",
              "<style scoped>\n",
              "    .dataframe tbody tr th:only-of-type {\n",
              "        vertical-align: middle;\n",
              "    }\n",
              "\n",
              "    .dataframe tbody tr th {\n",
              "        vertical-align: top;\n",
              "    }\n",
              "\n",
              "    .dataframe thead th {\n",
              "        text-align: right;\n",
              "    }\n",
              "</style>\n",
              "<table border=\"1\" class=\"dataframe\">\n",
              "  <thead>\n",
              "    <tr style=\"text-align: right;\">\n",
              "      <th></th>\n",
              "      <th>name</th>\n",
              "      <th>item_description</th>\n",
              "    </tr>\n",
              "  </thead>\n",
              "  <tbody>\n",
              "    <tr>\n",
              "      <th>0</th>\n",
              "      <td>MLB Cincinnati Reds T Shirt Size XL</td>\n",
              "      <td></td>\n",
              "    </tr>\n",
              "    <tr>\n",
              "      <th>1</th>\n",
              "      <td>Razer BlackWidow Chroma Keyboard</td>\n",
              "      <td>This keyboard is in great condition and works ...</td>\n",
              "    </tr>\n",
              "    <tr>\n",
              "      <th>2</th>\n",
              "      <td>AVA-VIV Blouse</td>\n",
              "      <td>Adorable top with a hint of lace and a key hol...</td>\n",
              "    </tr>\n",
              "    <tr>\n",
              "      <th>3</th>\n",
              "      <td>Leather Horse Statues</td>\n",
              "      <td>New with tags. Leather horses. Retail for [rm]...</td>\n",
              "    </tr>\n",
              "    <tr>\n",
              "      <th>4</th>\n",
              "      <td>24K GOLD plated rose</td>\n",
              "      <td>Complete with certificate of authenticity</td>\n",
              "    </tr>\n",
              "  </tbody>\n",
              "</table>\n",
              "</div>"
            ],
            "text/plain": [
              "                                  name  \\\n",
              "0  MLB Cincinnati Reds T Shirt Size XL   \n",
              "1     Razer BlackWidow Chroma Keyboard   \n",
              "2                       AVA-VIV Blouse   \n",
              "3                Leather Horse Statues   \n",
              "4                 24K GOLD plated rose   \n",
              "\n",
              "                                    item_description  \n",
              "0                                                     \n",
              "1  This keyboard is in great condition and works ...  \n",
              "2  Adorable top with a hint of lace and a key hol...  \n",
              "3  New with tags. Leather horses. Retail for [rm]...  \n",
              "4          Complete with certificate of authenticity  "
            ]
          },
          "metadata": {
            "tags": []
          },
          "execution_count": 47
        }
      ]
    },
    {
      "metadata": {
        "id": "w0hJ2QWQaHaG",
        "colab_type": "code",
        "colab": {
          "base_uri": "https://localhost:8080/",
          "height": 33
        },
        "outputId": "3ed48e75-b3a8-4a41-d907-948e62c16aaa"
      },
      "cell_type": "code",
      "source": [
        "len(mercari_text)"
      ],
      "execution_count": 48,
      "outputs": [
        {
          "output_type": "execute_result",
          "data": {
            "text/plain": [
              "1483904"
            ]
          },
          "metadata": {
            "tags": []
          },
          "execution_count": 48
        }
      ]
    },
    {
      "metadata": {
        "id": "xhhdPF53aHaO",
        "colab_type": "code",
        "colab": {}
      },
      "cell_type": "code",
      "source": [
        "name_list = []\n",
        "desc_list = []\n",
        "\n",
        "for name in mercari_text[\"name\"]:\n",
        "    name_list.append(name)"
      ],
      "execution_count": 0,
      "outputs": []
    },
    {
      "metadata": {
        "id": "wQDYD6aHaHaT",
        "colab_type": "code",
        "colab": {}
      },
      "cell_type": "code",
      "source": [
        "for desc in mercari_text[\"item_description\"]:\n",
        "    desc_list.append(desc)"
      ],
      "execution_count": 0,
      "outputs": []
    },
    {
      "metadata": {
        "id": "qoHO-NfraHaV",
        "colab_type": "code",
        "colab": {
          "base_uri": "https://localhost:8080/",
          "height": 33
        },
        "outputId": "39edc298-d14f-4d96-8a73-af2aea8fd1e9"
      },
      "cell_type": "code",
      "source": [
        "len(name_list)"
      ],
      "execution_count": 51,
      "outputs": [
        {
          "output_type": "execute_result",
          "data": {
            "text/plain": [
              "1483904"
            ]
          },
          "metadata": {
            "tags": []
          },
          "execution_count": 51
        }
      ]
    },
    {
      "metadata": {
        "id": "5kQAEeTZaHac",
        "colab_type": "code",
        "colab": {
          "base_uri": "https://localhost:8080/",
          "height": 33
        },
        "outputId": "87e33cf4-78c9-41b3-e5c5-328a5ef77496"
      },
      "cell_type": "code",
      "source": [
        "len(desc_list)"
      ],
      "execution_count": 52,
      "outputs": [
        {
          "output_type": "execute_result",
          "data": {
            "text/plain": [
              "1483904"
            ]
          },
          "metadata": {
            "tags": []
          },
          "execution_count": 52
        }
      ]
    },
    {
      "metadata": {
        "id": "xV5KamxUaHal",
        "colab_type": "code",
        "colab": {
          "base_uri": "https://localhost:8080/",
          "height": 33
        },
        "outputId": "69694581-a479-499b-b32f-dd99817227f3"
      },
      "cell_type": "code",
      "source": [
        "merge_text_list = []\n",
        "\n",
        "for i in range(0, len(mercari_text)):\n",
        "    merge_text = name_list[i] + \" \" + desc_list[i]\n",
        "    merge_text_list.append(merge_text)\n",
        "    \n",
        "len(merge_text_list)"
      ],
      "execution_count": 53,
      "outputs": [
        {
          "output_type": "execute_result",
          "data": {
            "text/plain": [
              "1483904"
            ]
          },
          "metadata": {
            "tags": []
          },
          "execution_count": 53
        }
      ]
    },
    {
      "metadata": {
        "scrolled": true,
        "id": "1TAtvyW7aHat",
        "colab_type": "code",
        "colab": {
          "base_uri": "https://localhost:8080/",
          "height": 197
        },
        "outputId": "c17781f8-f0c4-444b-ec20-5862e4dbcb57"
      },
      "cell_type": "code",
      "source": [
        "text_df = pd.DataFrame(merge_text_list, columns=[\"text\"])\n",
        "text_df.head()"
      ],
      "execution_count": 54,
      "outputs": [
        {
          "output_type": "execute_result",
          "data": {
            "text/html": [
              "<div>\n",
              "<style scoped>\n",
              "    .dataframe tbody tr th:only-of-type {\n",
              "        vertical-align: middle;\n",
              "    }\n",
              "\n",
              "    .dataframe tbody tr th {\n",
              "        vertical-align: top;\n",
              "    }\n",
              "\n",
              "    .dataframe thead th {\n",
              "        text-align: right;\n",
              "    }\n",
              "</style>\n",
              "<table border=\"1\" class=\"dataframe\">\n",
              "  <thead>\n",
              "    <tr style=\"text-align: right;\">\n",
              "      <th></th>\n",
              "      <th>text</th>\n",
              "    </tr>\n",
              "  </thead>\n",
              "  <tbody>\n",
              "    <tr>\n",
              "      <th>0</th>\n",
              "      <td>MLB Cincinnati Reds T Shirt Size XL</td>\n",
              "    </tr>\n",
              "    <tr>\n",
              "      <th>1</th>\n",
              "      <td>Razer BlackWidow Chroma Keyboard This keyboard...</td>\n",
              "    </tr>\n",
              "    <tr>\n",
              "      <th>2</th>\n",
              "      <td>AVA-VIV Blouse Adorable top with a hint of lac...</td>\n",
              "    </tr>\n",
              "    <tr>\n",
              "      <th>3</th>\n",
              "      <td>Leather Horse Statues New with tags. Leather h...</td>\n",
              "    </tr>\n",
              "    <tr>\n",
              "      <th>4</th>\n",
              "      <td>24K GOLD plated rose Complete with certificate...</td>\n",
              "    </tr>\n",
              "  </tbody>\n",
              "</table>\n",
              "</div>"
            ],
            "text/plain": [
              "                                                text\n",
              "0               MLB Cincinnati Reds T Shirt Size XL \n",
              "1  Razer BlackWidow Chroma Keyboard This keyboard...\n",
              "2  AVA-VIV Blouse Adorable top with a hint of lac...\n",
              "3  Leather Horse Statues New with tags. Leather h...\n",
              "4  24K GOLD plated rose Complete with certificate..."
            ]
          },
          "metadata": {
            "tags": []
          },
          "execution_count": 54
        }
      ]
    },
    {
      "metadata": {
        "id": "jz6heZXPaHaw",
        "colab_type": "code",
        "colab": {
          "base_uri": "https://localhost:8080/",
          "height": 33
        },
        "outputId": "34e815fc-ec52-4661-f2c2-eb4a85373c0f"
      },
      "cell_type": "code",
      "source": [
        "len(merge_text_list)"
      ],
      "execution_count": 55,
      "outputs": [
        {
          "output_type": "execute_result",
          "data": {
            "text/plain": [
              "1483904"
            ]
          },
          "metadata": {
            "tags": []
          },
          "execution_count": 55
        }
      ]
    },
    {
      "metadata": {
        "id": "TVkW6aYFaHa2",
        "colab_type": "text"
      },
      "cell_type": "markdown",
      "source": [
        "2. Normalize all characters to lowercase, in order to treat words such as “hello”, “Hello”, and “HELLO” the same"
      ]
    },
    {
      "metadata": {
        "id": "pKZNA4BEaHa3",
        "colab_type": "code",
        "colab": {
          "base_uri": "https://localhost:8080/",
          "height": 116
        },
        "outputId": "2b9d5817-4be8-44d7-e4d1-ba66b1765938"
      },
      "cell_type": "code",
      "source": [
        "text_df[\"text\"] = text_df[\"text\"].apply(lambda x: \" \".join(x.lower() for x in x.split()))\n",
        "text_df[\"text\"].head()"
      ],
      "execution_count": 56,
      "outputs": [
        {
          "output_type": "execute_result",
          "data": {
            "text/plain": [
              "0                  mlb cincinnati reds t shirt size xl\n",
              "1    razer blackwidow chroma keyboard this keyboard...\n",
              "2    ava-viv blouse adorable top with a hint of lac...\n",
              "3    leather horse statues new with tags. leather h...\n",
              "4    24k gold plated rose complete with certificate...\n",
              "Name: text, dtype: object"
            ]
          },
          "metadata": {
            "tags": []
          },
          "execution_count": 56
        }
      ]
    },
    {
      "metadata": {
        "id": "qFsmxpMSaHa6",
        "colab_type": "text"
      },
      "cell_type": "markdown",
      "source": [
        "3. Remove all irrelevant characters: numbers, mark, emoji such as 24 or @"
      ]
    },
    {
      "metadata": {
        "id": "c11b6QkDaHa7",
        "colab_type": "code",
        "colab": {}
      },
      "cell_type": "code",
      "source": [
        "import re\n",
        "import string"
      ],
      "execution_count": 0,
      "outputs": []
    },
    {
      "metadata": {
        "id": "jtfXbz3akCet",
        "colab_type": "code",
        "colab": {
          "base_uri": "https://localhost:8080/",
          "height": 366
        },
        "outputId": "30cff21b-aa33-4075-cff7-e2601a782c5a"
      },
      "cell_type": "code",
      "source": [
        "text_df[\"text\"].head(20)"
      ],
      "execution_count": 59,
      "outputs": [
        {
          "output_type": "execute_result",
          "data": {
            "text/plain": [
              "0                   mlb cincinnati reds t shirt size xl\n",
              "1     razer blackwidow chroma keyboard this keyboard...\n",
              "2     ava-viv blouse adorable top with a hint of lac...\n",
              "3     leather horse statues new with tags. leather h...\n",
              "4     k gold plated rose complete with certificate o...\n",
              "5     bundled items requested for ruie banana republ...\n",
              "6     acacia pacific tides santorini top size small ...\n",
              "7     girls cheer and tumbling bundle of  you get th...\n",
              "8     girls nike pro shorts girls size small plus gr...\n",
              "9     porcelain clown doll checker pants vtg i reali...\n",
              "10    smashbox primer . oz full size is oz for [rm] ...\n",
              "11    new vs pi k body mists () new vs pink body mis...\n",
              "12               black skater dress xl, great condition\n",
              "13                                 sharpener and eraser\n",
              "14    hold for dogs minnetonka boots authentic. sued...\n",
              "15    sephora tarte birthday gift brand new. deluxe ...\n",
              "16    glitter eyeshadow  glitter eyeshadows; one in ...\n",
              "17    new: baby k'tan active baby carrier brand new ...\n",
              "18    too faced limited \"merry macaroons\" this authe...\n",
              "19    cream/ beige front cross shirt fancy, dressy o...\n",
              "Name: text, dtype: object"
            ]
          },
          "metadata": {
            "tags": []
          },
          "execution_count": 59
        }
      ]
    },
    {
      "metadata": {
        "id": "pb1h5cnIaHa-",
        "colab_type": "code",
        "colab": {
          "base_uri": "https://localhost:8080/",
          "height": 366
        },
        "outputId": "e9b59acf-3d7f-4ce3-f004-4b1d7b717ab0"
      },
      "cell_type": "code",
      "source": [
        "text_df[\"text\"] = text_df[\"text\"].str.replace('[^\\w\\s]','')\n",
        "text_df[\"text\"].head(20)"
      ],
      "execution_count": 60,
      "outputs": [
        {
          "output_type": "execute_result",
          "data": {
            "text/plain": [
              "0                   mlb cincinnati reds t shirt size xl\n",
              "1     razer blackwidow chroma keyboard this keyboard...\n",
              "2     avaviv blouse adorable top with a hint of lace...\n",
              "3     leather horse statues new with tags leather ho...\n",
              "4     k gold plated rose complete with certificate o...\n",
              "5     bundled items requested for ruie banana republ...\n",
              "6     acacia pacific tides santorini top size small ...\n",
              "7     girls cheer and tumbling bundle of  you get th...\n",
              "8     girls nike pro shorts girls size small plus gr...\n",
              "9     porcelain clown doll checker pants vtg i reali...\n",
              "10    smashbox primer  oz full size is oz for rm in ...\n",
              "11    new vs pi k body mists  new vs pink body mists...\n",
              "12                black skater dress xl great condition\n",
              "13                                 sharpener and eraser\n",
              "14    hold for dogs minnetonka boots authentic suede...\n",
              "15    sephora tarte birthday gift brand new deluxe t...\n",
              "16    glitter eyeshadow  glitter eyeshadows one in b...\n",
              "17    new baby ktan active baby carrier brand new in...\n",
              "18    too faced limited merry macaroons this authent...\n",
              "19    cream beige front cross shirt fancy dressy or ...\n",
              "Name: text, dtype: object"
            ]
          },
          "metadata": {
            "tags": []
          },
          "execution_count": 60
        }
      ]
    },
    {
      "metadata": {
        "id": "dImBVGeQaHbD",
        "colab_type": "code",
        "colab": {
          "base_uri": "https://localhost:8080/",
          "height": 116
        },
        "outputId": "0e829d7b-bde7-4b26-bf75-d488d95d44cc"
      },
      "cell_type": "code",
      "source": [
        "text_df[\"text\"] = text_df[\"text\"].str.replace(r\"\\d+\", \"\")\n",
        "text_df[\"text\"].head()"
      ],
      "execution_count": 58,
      "outputs": [
        {
          "output_type": "execute_result",
          "data": {
            "text/plain": [
              "0                  mlb cincinnati reds t shirt size xl\n",
              "1    razer blackwidow chroma keyboard this keyboard...\n",
              "2    ava-viv blouse adorable top with a hint of lac...\n",
              "3    leather horse statues new with tags. leather h...\n",
              "4    k gold plated rose complete with certificate o...\n",
              "Name: text, dtype: object"
            ]
          },
          "metadata": {
            "tags": []
          },
          "execution_count": 58
        }
      ]
    },
    {
      "metadata": {
        "id": "Y4vJvI0laHbI",
        "colab_type": "code",
        "colab": {
          "base_uri": "https://localhost:8080/",
          "height": 366
        },
        "outputId": "bbf7ca01-d58c-48e5-8f54-19acb06033f3"
      },
      "cell_type": "code",
      "source": [
        "text_df[\"text\"] = text_df[\"text\"].str.replace(r\"[︰-＠]\", \"\")\n",
        "text_df[\"text\"].head(20)"
      ],
      "execution_count": 61,
      "outputs": [
        {
          "output_type": "execute_result",
          "data": {
            "text/plain": [
              "0                   mlb cincinnati reds t shirt size xl\n",
              "1     razer blackwidow chroma keyboard this keyboard...\n",
              "2     avaviv blouse adorable top with a hint of lace...\n",
              "3     leather horse statues new with tags leather ho...\n",
              "4     k gold plated rose complete with certificate o...\n",
              "5     bundled items requested for ruie banana republ...\n",
              "6     acacia pacific tides santorini top size small ...\n",
              "7     girls cheer and tumbling bundle of  you get th...\n",
              "8     girls nike pro shorts girls size small plus gr...\n",
              "9     porcelain clown doll checker pants vtg i reali...\n",
              "10    smashbox primer  oz full size is oz for rm in ...\n",
              "11    new vs pi k body mists  new vs pink body mists...\n",
              "12                black skater dress xl great condition\n",
              "13                                 sharpener and eraser\n",
              "14    hold for dogs minnetonka boots authentic suede...\n",
              "15    sephora tarte birthday gift brand new deluxe t...\n",
              "16    glitter eyeshadow  glitter eyeshadows one in b...\n",
              "17    new baby ktan active baby carrier brand new in...\n",
              "18    too faced limited merry macaroons this authent...\n",
              "19    cream beige front cross shirt fancy dressy or ...\n",
              "Name: text, dtype: object"
            ]
          },
          "metadata": {
            "tags": []
          },
          "execution_count": 61
        }
      ]
    },
    {
      "metadata": {
        "id": "FM0Bi5xiaHbK",
        "colab_type": "text"
      },
      "cell_type": "markdown",
      "source": [
        "4. Tokenize your text by separating it into individual words"
      ]
    },
    {
      "metadata": {
        "id": "NVVYo-iFaHbL",
        "colab_type": "code",
        "colab": {
          "base_uri": "https://localhost:8080/",
          "height": 50
        },
        "outputId": "ce6cc3d1-f5c1-429c-8943-b9d22ac6a538"
      },
      "cell_type": "code",
      "source": [
        "import nltk\n",
        "nltk.download('punkt')\n",
        "from nltk.tokenize import word_tokenize"
      ],
      "execution_count": 62,
      "outputs": [
        {
          "output_type": "stream",
          "text": [
            "[nltk_data] Downloading package punkt to /root/nltk_data...\n",
            "[nltk_data]   Unzipping tokenizers/punkt.zip.\n"
          ],
          "name": "stdout"
        }
      ]
    },
    {
      "metadata": {
        "id": "poFlbnxmaHbO",
        "colab_type": "code",
        "colab": {
          "base_uri": "https://localhost:8080/",
          "height": 116
        },
        "outputId": "faceec72-4cc6-4c0e-d751-0a33ebaec887"
      },
      "cell_type": "code",
      "source": [
        "text_df[\"text\"] = text_df[\"text\"].apply(word_tokenize)\n",
        "text_df[\"text\"].head()"
      ],
      "execution_count": 63,
      "outputs": [
        {
          "output_type": "execute_result",
          "data": {
            "text/plain": [
              "0          [mlb, cincinnati, reds, t, shirt, size, xl]\n",
              "1    [razer, blackwidow, chroma, keyboard, this, ke...\n",
              "2    [avaviv, blouse, adorable, top, with, a, hint,...\n",
              "3    [leather, horse, statues, new, with, tags, lea...\n",
              "4    [k, gold, plated, rose, complete, with, certif...\n",
              "Name: text, dtype: object"
            ]
          },
          "metadata": {
            "tags": []
          },
          "execution_count": 63
        }
      ]
    },
    {
      "metadata": {
        "id": "t1As-pN5aHbQ",
        "colab_type": "text"
      },
      "cell_type": "markdown",
      "source": [
        "5. Remove \"stopwords\""
      ]
    },
    {
      "metadata": {
        "id": "199_w4VnmFkB",
        "colab_type": "code",
        "colab": {
          "base_uri": "https://localhost:8080/",
          "height": 66
        },
        "outputId": "2722ef48-fdc0-47c4-8459-1eba6a591f05"
      },
      "cell_type": "code",
      "source": [
        "nltk.download('stopwords')"
      ],
      "execution_count": 66,
      "outputs": [
        {
          "output_type": "stream",
          "text": [
            "[nltk_data] Downloading package stopwords to /root/nltk_data...\n",
            "[nltk_data]   Unzipping corpora/stopwords.zip.\n"
          ],
          "name": "stdout"
        },
        {
          "output_type": "execute_result",
          "data": {
            "text/plain": [
              "True"
            ]
          },
          "metadata": {
            "tags": []
          },
          "execution_count": 66
        }
      ]
    },
    {
      "metadata": {
        "id": "_CCblleYaHbQ",
        "colab_type": "code",
        "colab": {
          "base_uri": "https://localhost:8080/",
          "height": 366
        },
        "outputId": "2a162cc0-25e9-4e72-f040-e308c8c07249"
      },
      "cell_type": "code",
      "source": [
        "from nltk.corpus import stopwords\n",
        "stop_words = stopwords.words(\"english\")\n",
        "text_df[\"text_nonstop\"] = text_df[\"text\"].apply(lambda x: [item for item in x if item not in stop_words])\n",
        "text_df[\"text_nonstop\"].head(20)"
      ],
      "execution_count": 68,
      "outputs": [
        {
          "output_type": "execute_result",
          "data": {
            "text/plain": [
              "0              [mlb, cincinnati, reds, shirt, size, xl]\n",
              "1     [razer, blackwidow, chroma, keyboard, keyboard...\n",
              "2     [avaviv, blouse, adorable, top, hint, lace, ke...\n",
              "3     [leather, horse, statues, new, tags, leather, ...\n",
              "4     [k, gold, plated, rose, complete, certificate,...\n",
              "5     [bundled, items, requested, ruie, banana, repu...\n",
              "6     [acacia, pacific, tides, santorini, top, size,...\n",
              "7     [girls, cheer, tumbling, bundle, get, three, p...\n",
              "8     [girls, nike, pro, shorts, girls, size, small,...\n",
              "9     [porcelain, clown, doll, checker, pants, vtg, ...\n",
              "10    [smashbox, primer, oz, full, size, oz, rm, sep...\n",
              "11    [new, vs, pi, k, body, mists, new, vs, pink, b...\n",
              "12         [black, skater, dress, xl, great, condition]\n",
              "13                                  [sharpener, eraser]\n",
              "14    [hold, dogs, minnetonka, boots, authentic, sue...\n",
              "15    [sephora, tarte, birthday, gift, brand, new, d...\n",
              "16    [glitter, eyeshadow, glitter, eyeshadows, one,...\n",
              "17    [new, baby, ktan, active, baby, carrier, brand...\n",
              "18    [faced, limited, merry, macaroons, authentic, ...\n",
              "19    [cream, beige, front, cross, shirt, fancy, dre...\n",
              "Name: text_nonstop, dtype: object"
            ]
          },
          "metadata": {
            "tags": []
          },
          "execution_count": 68
        }
      ]
    },
    {
      "metadata": {
        "id": "iDwwJJlqaHbS",
        "colab_type": "text"
      },
      "cell_type": "markdown",
      "source": [
        "6. Stemming and Lemmatization (reduce words such as “am”, “are”, and “is” to a common form such as “be”)"
      ]
    },
    {
      "metadata": {
        "id": "NzZKkY_EaHbT",
        "colab_type": "code",
        "colab": {
          "base_uri": "https://localhost:8080/",
          "height": 578
        },
        "outputId": "a2965717-71a9-482e-ed22-f3bc53c5bf89"
      },
      "cell_type": "code",
      "source": [
        "# Stemming\n",
        "from nltk.stem import PorterStemmer\n",
        "stemmer = PorterStemmer()\n",
        "text_df[\"text_nonstop\"] = text_df[\"text_nonstop\"].apply(lambda x: stemmer.stem(x))\n",
        "text_df[\"text_nonstop\"].head()"
      ],
      "execution_count": 69,
      "outputs": [
        {
          "output_type": "error",
          "ename": "AttributeError",
          "evalue": "ignored",
          "traceback": [
            "\u001b[0;31m---------------------------------------------------------------------------\u001b[0m",
            "\u001b[0;31mAttributeError\u001b[0m                            Traceback (most recent call last)",
            "\u001b[0;32m<ipython-input-69-bde210ea01da>\u001b[0m in \u001b[0;36m<module>\u001b[0;34m()\u001b[0m\n\u001b[1;32m      1\u001b[0m \u001b[0;32mfrom\u001b[0m \u001b[0mnltk\u001b[0m\u001b[0;34m.\u001b[0m\u001b[0mstem\u001b[0m \u001b[0;32mimport\u001b[0m \u001b[0mPorterStemmer\u001b[0m\u001b[0;34m\u001b[0m\u001b[0;34m\u001b[0m\u001b[0m\n\u001b[1;32m      2\u001b[0m \u001b[0mstemmer\u001b[0m \u001b[0;34m=\u001b[0m \u001b[0mPorterStemmer\u001b[0m\u001b[0;34m(\u001b[0m\u001b[0;34m)\u001b[0m\u001b[0;34m\u001b[0m\u001b[0;34m\u001b[0m\u001b[0m\n\u001b[0;32m----> 3\u001b[0;31m \u001b[0mtext_df\u001b[0m\u001b[0;34m[\u001b[0m\u001b[0;34m\"text_nonstop\"\u001b[0m\u001b[0;34m]\u001b[0m \u001b[0;34m=\u001b[0m \u001b[0mtext_df\u001b[0m\u001b[0;34m[\u001b[0m\u001b[0;34m\"text_nonstop\"\u001b[0m\u001b[0;34m]\u001b[0m\u001b[0;34m.\u001b[0m\u001b[0mapply\u001b[0m\u001b[0;34m(\u001b[0m\u001b[0;32mlambda\u001b[0m \u001b[0mx\u001b[0m\u001b[0;34m:\u001b[0m \u001b[0mstemmer\u001b[0m\u001b[0;34m.\u001b[0m\u001b[0mstem\u001b[0m\u001b[0;34m(\u001b[0m\u001b[0mx\u001b[0m\u001b[0;34m)\u001b[0m\u001b[0;34m)\u001b[0m\u001b[0;34m\u001b[0m\u001b[0;34m\u001b[0m\u001b[0m\n\u001b[0m\u001b[1;32m      4\u001b[0m \u001b[0mtext_df\u001b[0m\u001b[0;34m[\u001b[0m\u001b[0;34m\"text_nonstop\"\u001b[0m\u001b[0;34m]\u001b[0m\u001b[0;34m.\u001b[0m\u001b[0mhead\u001b[0m\u001b[0;34m(\u001b[0m\u001b[0;34m)\u001b[0m\u001b[0;34m\u001b[0m\u001b[0;34m\u001b[0m\u001b[0m\n",
            "\u001b[0;32m/usr/local/lib/python3.6/dist-packages/pandas/core/series.py\u001b[0m in \u001b[0;36mapply\u001b[0;34m(self, func, convert_dtype, args, **kwds)\u001b[0m\n\u001b[1;32m   2549\u001b[0m             \u001b[0;32melse\u001b[0m\u001b[0;34m:\u001b[0m\u001b[0;34m\u001b[0m\u001b[0;34m\u001b[0m\u001b[0m\n\u001b[1;32m   2550\u001b[0m                 \u001b[0mvalues\u001b[0m \u001b[0;34m=\u001b[0m \u001b[0mself\u001b[0m\u001b[0;34m.\u001b[0m\u001b[0masobject\u001b[0m\u001b[0;34m\u001b[0m\u001b[0;34m\u001b[0m\u001b[0m\n\u001b[0;32m-> 2551\u001b[0;31m                 \u001b[0mmapped\u001b[0m \u001b[0;34m=\u001b[0m \u001b[0mlib\u001b[0m\u001b[0;34m.\u001b[0m\u001b[0mmap_infer\u001b[0m\u001b[0;34m(\u001b[0m\u001b[0mvalues\u001b[0m\u001b[0;34m,\u001b[0m \u001b[0mf\u001b[0m\u001b[0;34m,\u001b[0m \u001b[0mconvert\u001b[0m\u001b[0;34m=\u001b[0m\u001b[0mconvert_dtype\u001b[0m\u001b[0;34m)\u001b[0m\u001b[0;34m\u001b[0m\u001b[0;34m\u001b[0m\u001b[0m\n\u001b[0m\u001b[1;32m   2552\u001b[0m \u001b[0;34m\u001b[0m\u001b[0m\n\u001b[1;32m   2553\u001b[0m         \u001b[0;32mif\u001b[0m \u001b[0mlen\u001b[0m\u001b[0;34m(\u001b[0m\u001b[0mmapped\u001b[0m\u001b[0;34m)\u001b[0m \u001b[0;32mand\u001b[0m \u001b[0misinstance\u001b[0m\u001b[0;34m(\u001b[0m\u001b[0mmapped\u001b[0m\u001b[0;34m[\u001b[0m\u001b[0;36m0\u001b[0m\u001b[0;34m]\u001b[0m\u001b[0;34m,\u001b[0m \u001b[0mSeries\u001b[0m\u001b[0;34m)\u001b[0m\u001b[0;34m:\u001b[0m\u001b[0;34m\u001b[0m\u001b[0;34m\u001b[0m\u001b[0m\n",
            "\u001b[0;32mpandas/_libs/src/inference.pyx\u001b[0m in \u001b[0;36mpandas._libs.lib.map_infer\u001b[0;34m()\u001b[0m\n",
            "\u001b[0;32m<ipython-input-69-bde210ea01da>\u001b[0m in \u001b[0;36m<lambda>\u001b[0;34m(x)\u001b[0m\n\u001b[1;32m      1\u001b[0m \u001b[0;32mfrom\u001b[0m \u001b[0mnltk\u001b[0m\u001b[0;34m.\u001b[0m\u001b[0mstem\u001b[0m \u001b[0;32mimport\u001b[0m \u001b[0mPorterStemmer\u001b[0m\u001b[0;34m\u001b[0m\u001b[0;34m\u001b[0m\u001b[0m\n\u001b[1;32m      2\u001b[0m \u001b[0mstemmer\u001b[0m \u001b[0;34m=\u001b[0m \u001b[0mPorterStemmer\u001b[0m\u001b[0;34m(\u001b[0m\u001b[0;34m)\u001b[0m\u001b[0;34m\u001b[0m\u001b[0;34m\u001b[0m\u001b[0m\n\u001b[0;32m----> 3\u001b[0;31m \u001b[0mtext_df\u001b[0m\u001b[0;34m[\u001b[0m\u001b[0;34m\"text_nonstop\"\u001b[0m\u001b[0;34m]\u001b[0m \u001b[0;34m=\u001b[0m \u001b[0mtext_df\u001b[0m\u001b[0;34m[\u001b[0m\u001b[0;34m\"text_nonstop\"\u001b[0m\u001b[0;34m]\u001b[0m\u001b[0;34m.\u001b[0m\u001b[0mapply\u001b[0m\u001b[0;34m(\u001b[0m\u001b[0;32mlambda\u001b[0m \u001b[0mx\u001b[0m\u001b[0;34m:\u001b[0m \u001b[0mstemmer\u001b[0m\u001b[0;34m.\u001b[0m\u001b[0mstem\u001b[0m\u001b[0;34m(\u001b[0m\u001b[0mx\u001b[0m\u001b[0;34m)\u001b[0m\u001b[0;34m)\u001b[0m\u001b[0;34m\u001b[0m\u001b[0;34m\u001b[0m\u001b[0m\n\u001b[0m\u001b[1;32m      4\u001b[0m \u001b[0mtext_df\u001b[0m\u001b[0;34m[\u001b[0m\u001b[0;34m\"text_nonstop\"\u001b[0m\u001b[0;34m]\u001b[0m\u001b[0;34m.\u001b[0m\u001b[0mhead\u001b[0m\u001b[0;34m(\u001b[0m\u001b[0;34m)\u001b[0m\u001b[0;34m\u001b[0m\u001b[0;34m\u001b[0m\u001b[0m\n",
            "\u001b[0;32m/usr/local/lib/python3.6/dist-packages/nltk/stem/porter.py\u001b[0m in \u001b[0;36mstem\u001b[0;34m(self, word)\u001b[0m\n\u001b[1;32m    652\u001b[0m \u001b[0;34m\u001b[0m\u001b[0m\n\u001b[1;32m    653\u001b[0m     \u001b[0;32mdef\u001b[0m \u001b[0mstem\u001b[0m\u001b[0;34m(\u001b[0m\u001b[0mself\u001b[0m\u001b[0;34m,\u001b[0m \u001b[0mword\u001b[0m\u001b[0;34m)\u001b[0m\u001b[0;34m:\u001b[0m\u001b[0;34m\u001b[0m\u001b[0;34m\u001b[0m\u001b[0m\n\u001b[0;32m--> 654\u001b[0;31m         \u001b[0mstem\u001b[0m \u001b[0;34m=\u001b[0m \u001b[0mword\u001b[0m\u001b[0;34m.\u001b[0m\u001b[0mlower\u001b[0m\u001b[0;34m(\u001b[0m\u001b[0;34m)\u001b[0m\u001b[0;34m\u001b[0m\u001b[0;34m\u001b[0m\u001b[0m\n\u001b[0m\u001b[1;32m    655\u001b[0m \u001b[0;34m\u001b[0m\u001b[0m\n\u001b[1;32m    656\u001b[0m         \u001b[0;32mif\u001b[0m \u001b[0mself\u001b[0m\u001b[0;34m.\u001b[0m\u001b[0mmode\u001b[0m \u001b[0;34m==\u001b[0m \u001b[0mself\u001b[0m\u001b[0;34m.\u001b[0m\u001b[0mNLTK_EXTENSIONS\u001b[0m \u001b[0;32mand\u001b[0m \u001b[0mword\u001b[0m \u001b[0;32min\u001b[0m \u001b[0mself\u001b[0m\u001b[0;34m.\u001b[0m\u001b[0mpool\u001b[0m\u001b[0;34m:\u001b[0m\u001b[0;34m\u001b[0m\u001b[0;34m\u001b[0m\u001b[0m\n",
            "\u001b[0;31mAttributeError\u001b[0m: 'list' object has no attribute 'lower'"
          ]
        }
      ]
    },
    {
      "metadata": {
        "scrolled": true,
        "id": "JfRzM6ISaHbU",
        "colab_type": "code",
        "colab": {
          "base_uri": "https://localhost:8080/",
          "height": 66
        },
        "outputId": "c650d530-5a4e-4c0b-dceb-2e523fcc7bdd"
      },
      "cell_type": "code",
      "source": [
        "nltk.download('wordnet')"
      ],
      "execution_count": 64,
      "outputs": [
        {
          "output_type": "stream",
          "text": [
            "[nltk_data] Downloading package wordnet to /root/nltk_data...\n",
            "[nltk_data]   Unzipping corpora/wordnet.zip.\n"
          ],
          "name": "stdout"
        },
        {
          "output_type": "execute_result",
          "data": {
            "text/plain": [
              "True"
            ]
          },
          "metadata": {
            "tags": []
          },
          "execution_count": 64
        }
      ]
    },
    {
      "metadata": {
        "id": "y23muaq2aHbY",
        "colab_type": "code",
        "colab": {}
      },
      "cell_type": "code",
      "source": [
        "# Lemmatization\n",
        "from nltk.stem import WordNetLemmatizer\n",
        "lemmatizer = WordNetLemmatizer()\n",
        "text_df[\"text\"] = text_df[\"text\"].apply(lambda x: lemmatizer.lemmatize(x))\n",
        "text_df[\"text\"].head()"
      ],
      "execution_count": 0,
      "outputs": []
    },
    {
      "metadata": {
        "id": "_wf6imfkaHba",
        "colab_type": "text"
      },
      "cell_type": "markdown",
      "source": [
        "7. Bag of words: TF-IDF"
      ]
    },
    {
      "metadata": {
        "id": "h7tpxydyaHbb",
        "colab_type": "code",
        "colab": {}
      },
      "cell_type": "code",
      "source": [
        "from sklearn.feature_extraction.text import TfidfVectorizer\n",
        "vectorizer = TfidfVectorizer(min_df=0.03)\n",
        "tfidf_X = vectorizer.fit_transform(text_df[\"text\"]).toarray()\n",
        "# tfidf_X.get_feature_names()\n",
        "\n",
        "index = tfidf_X.argsort(axis=1)[:,::-1]\n",
        "feature_names = np.array(vectorizer.get_feature_names())\n",
        "feature_words = feature_names[index]\n",
        "\n",
        "n = 5  # top何単語取るか\n",
        "m = 15  # 何記事サンプルとして抽出するか\n",
        "for fwords, target in zip(feature_words[:m,:n], news20.target):\n",
        "    # 各文書ごとにtarget（ラベル）とtop nの重要語を表示\n",
        "    print(news20.target_names[target])\n",
        "    print(fwords)"
      ],
      "execution_count": 0,
      "outputs": []
    },
    {
      "metadata": {
        "id": "TtfXt2h-aHbd",
        "colab_type": "code",
        "colab": {}
      },
      "cell_type": "code",
      "source": [
        ""
      ],
      "execution_count": 0,
      "outputs": []
    },
    {
      "metadata": {
        "id": "hx5bPuq_aHbe",
        "colab_type": "code",
        "colab": {}
      },
      "cell_type": "code",
      "source": [
        ""
      ],
      "execution_count": 0,
      "outputs": []
    },
    {
      "metadata": {
        "id": "q3eFwN_qaHbf",
        "colab_type": "text"
      },
      "cell_type": "markdown",
      "source": [
        "8. Dimensional Reduction: t-SNE and LDA"
      ]
    },
    {
      "metadata": {
        "id": "9_ORAK0xaHbg",
        "colab_type": "code",
        "colab": {}
      },
      "cell_type": "code",
      "source": [
        "stop"
      ],
      "execution_count": 0,
      "outputs": []
    },
    {
      "metadata": {
        "id": "rCLtyA6OaHbi",
        "colab_type": "code",
        "colab": {}
      },
      "cell_type": "code",
      "source": [
        ""
      ],
      "execution_count": 0,
      "outputs": []
    },
    {
      "metadata": {
        "id": "-CNgfRe9aHbk",
        "colab_type": "code",
        "colab": {}
      },
      "cell_type": "code",
      "source": [
        ""
      ],
      "execution_count": 0,
      "outputs": []
    },
    {
      "metadata": {
        "id": "2IaSQF0caHbn",
        "colab_type": "code",
        "colab": {}
      },
      "cell_type": "code",
      "source": [
        "from sklearn.manifold import TSNE\n",
        "X = np.array([[0, 0, 0], [0, 1, 1], [1, 0, 1], [1, 1, 1]])\n",
        "X_embedded = TSNE(n_components=2).fit_transform(X)\n",
        "X_embedded.shape\n",
        "\n",
        "# MLPClassifier"
      ],
      "execution_count": 0,
      "outputs": []
    },
    {
      "metadata": {
        "id": "ZclAswT_aHbr",
        "colab_type": "text"
      },
      "cell_type": "markdown",
      "source": [
        "# Stacking with RMRegressor, XGBoost, NeuralNetwork"
      ]
    },
    {
      "metadata": {
        "id": "e4j0AuszaHbs",
        "colab_type": "text"
      },
      "cell_type": "markdown",
      "source": [
        "- Tf-idf: Feature Extraction for text data (BoW)\n",
        "- word2vec: Vctorize from word to numerical data\n",
        "- t-SNE: Dimensional Reduction"
      ]
    },
    {
      "metadata": {
        "id": "VUxdfe8kaHbt",
        "colab_type": "text"
      },
      "cell_type": "markdown",
      "source": [
        "# ベクトル化しないで次元削除ってどういうこと？\n",
        "## tf-idf -> t-SNE"
      ]
    },
    {
      "metadata": {
        "id": "VMH1S-NBaHbu",
        "colab_type": "text"
      },
      "cell_type": "markdown",
      "source": [
        "countvectorizer & LDA SVD"
      ]
    },
    {
      "metadata": {
        "id": "q8AU9kUtaHbu",
        "colab_type": "code",
        "colab": {}
      },
      "cell_type": "code",
      "source": [
        ""
      ],
      "execution_count": 0,
      "outputs": []
    }
  ]
}